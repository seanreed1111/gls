{
 "cells": [
  {
   "cell_type": "markdown",
   "metadata": {},
   "source": [
    "source: https://people.bath.ac.uk/jjf23/LMR/python/\n",
    "data source: https://people.bath.ac.uk/jjf23/LMR/python/lmrcsv.zip"
   ]
  },
  {
   "cell_type": "markdown",
   "metadata": {},
   "source": [
    "# Chapter 8: Problems with the Error\n",
    "\n",
    "Load the packages:"
   ]
  },
  {
   "cell_type": "code",
   "execution_count": 1,
   "metadata": {},
   "outputs": [],
   "source": [
    "import pandas as pd\n",
    "import numpy as np\n",
    "import matplotlib.pyplot as plt\n",
    "import scipy as sp\n",
    "import statsmodels.api as sm\n",
    "import statsmodels.formula.api as smf"
   ]
  },
  {
   "cell_type": "markdown",
   "metadata": {},
   "source": [
    "## Generalized Least Squares\n",
    "\n",
    "Load the data:"
   ]
  },
  {
   "cell_type": "code",
   "execution_count": 2,
   "metadata": {},
   "outputs": [
    {
     "data": {
      "text/html": [
       "<div>\n",
       "<style scoped>\n",
       "    .dataframe tbody tr th:only-of-type {\n",
       "        vertical-align: middle;\n",
       "    }\n",
       "\n",
       "    .dataframe tbody tr th {\n",
       "        vertical-align: top;\n",
       "    }\n",
       "\n",
       "    .dataframe thead th {\n",
       "        text-align: right;\n",
       "    }\n",
       "</style>\n",
       "<table border=\"1\" class=\"dataframe\">\n",
       "  <thead>\n",
       "    <tr style=\"text-align: right;\">\n",
       "      <th></th>\n",
       "      <th>nhtemp</th>\n",
       "      <th>wusa</th>\n",
       "      <th>jasper</th>\n",
       "      <th>westgreen</th>\n",
       "      <th>chesapeake</th>\n",
       "      <th>tornetrask</th>\n",
       "      <th>urals</th>\n",
       "      <th>mongolia</th>\n",
       "      <th>tasman</th>\n",
       "      <th>year</th>\n",
       "    </tr>\n",
       "  </thead>\n",
       "  <tbody>\n",
       "    <tr>\n",
       "      <th>0</th>\n",
       "      <td>NaN</td>\n",
       "      <td>-0.66</td>\n",
       "      <td>-0.03</td>\n",
       "      <td>0.03</td>\n",
       "      <td>-0.66</td>\n",
       "      <td>0.33</td>\n",
       "      <td>-1.49</td>\n",
       "      <td>0.83</td>\n",
       "      <td>-0.12</td>\n",
       "      <td>1000</td>\n",
       "    </tr>\n",
       "    <tr>\n",
       "      <th>1</th>\n",
       "      <td>NaN</td>\n",
       "      <td>-0.63</td>\n",
       "      <td>-0.07</td>\n",
       "      <td>0.09</td>\n",
       "      <td>-0.67</td>\n",
       "      <td>0.21</td>\n",
       "      <td>-1.44</td>\n",
       "      <td>0.96</td>\n",
       "      <td>-0.17</td>\n",
       "      <td>1001</td>\n",
       "    </tr>\n",
       "    <tr>\n",
       "      <th>2</th>\n",
       "      <td>NaN</td>\n",
       "      <td>-0.60</td>\n",
       "      <td>-0.11</td>\n",
       "      <td>0.18</td>\n",
       "      <td>-0.67</td>\n",
       "      <td>0.13</td>\n",
       "      <td>-1.39</td>\n",
       "      <td>0.99</td>\n",
       "      <td>-0.22</td>\n",
       "      <td>1002</td>\n",
       "    </tr>\n",
       "    <tr>\n",
       "      <th>3</th>\n",
       "      <td>NaN</td>\n",
       "      <td>-0.55</td>\n",
       "      <td>-0.14</td>\n",
       "      <td>0.30</td>\n",
       "      <td>-0.68</td>\n",
       "      <td>0.08</td>\n",
       "      <td>-1.34</td>\n",
       "      <td>0.95</td>\n",
       "      <td>-0.26</td>\n",
       "      <td>1003</td>\n",
       "    </tr>\n",
       "    <tr>\n",
       "      <th>4</th>\n",
       "      <td>NaN</td>\n",
       "      <td>-0.51</td>\n",
       "      <td>-0.15</td>\n",
       "      <td>0.41</td>\n",
       "      <td>-0.68</td>\n",
       "      <td>0.06</td>\n",
       "      <td>-1.30</td>\n",
       "      <td>0.87</td>\n",
       "      <td>-0.31</td>\n",
       "      <td>1004</td>\n",
       "    </tr>\n",
       "  </tbody>\n",
       "</table>\n",
       "</div>"
      ],
      "text/plain": [
       "   nhtemp  wusa  jasper  westgreen  chesapeake  tornetrask  urals  mongolia  \\\n",
       "0     NaN -0.66   -0.03       0.03       -0.66        0.33  -1.49      0.83   \n",
       "1     NaN -0.63   -0.07       0.09       -0.67        0.21  -1.44      0.96   \n",
       "2     NaN -0.60   -0.11       0.18       -0.67        0.13  -1.39      0.99   \n",
       "3     NaN -0.55   -0.14       0.30       -0.68        0.08  -1.34      0.95   \n",
       "4     NaN -0.51   -0.15       0.41       -0.68        0.06  -1.30      0.87   \n",
       "\n",
       "   tasman  year  \n",
       "0   -0.12  1000  \n",
       "1   -0.17  1001  \n",
       "2   -0.22  1002  \n",
       "3   -0.26  1003  \n",
       "4   -0.31  1004  "
      ]
     },
     "execution_count": 2,
     "metadata": {},
     "output_type": "execute_result"
    }
   ],
   "source": [
    "globwarm = pd.read_csv(\"data/globwarm.csv\")\n",
    "globwarm.head()"
   ]
  },
  {
   "cell_type": "markdown",
   "metadata": {},
   "source": [
    "Fit the model:"
   ]
  },
  {
   "cell_type": "code",
   "execution_count": 3,
   "metadata": {},
   "outputs": [
    {
     "data": {
      "text/html": [
       "<table class=\"simpletable\">\n",
       "<caption>OLS Regression Results</caption>\n",
       "<tr>\n",
       "  <th>Dep. Variable:</th>         <td>nhtemp</td>      <th>  R-squared:         </th> <td>   0.476</td>\n",
       "</tr>\n",
       "<tr>\n",
       "  <th>Model:</th>                   <td>OLS</td>       <th>  Adj. R-squared:    </th> <td>   0.446</td>\n",
       "</tr>\n",
       "<tr>\n",
       "  <th>Method:</th>             <td>Least Squares</td>  <th>  F-statistic:       </th> <td>   15.47</td>\n",
       "</tr>\n",
       "<tr>\n",
       "  <th>Date:</th>             <td>Tue, 25 Sep 2018</td> <th>  Prob (F-statistic):</th> <td>5.03e-16</td>\n",
       "</tr>\n",
       "<tr>\n",
       "  <th>Time:</th>                 <td>15:55:20</td>     <th>  Log-Likelihood:    </th> <td>  50.995</td>\n",
       "</tr>\n",
       "<tr>\n",
       "  <th>No. Observations:</th>      <td>   145</td>      <th>  AIC:               </th> <td>  -83.99</td>\n",
       "</tr>\n",
       "<tr>\n",
       "  <th>Df Residuals:</th>          <td>   136</td>      <th>  BIC:               </th> <td>  -57.20</td>\n",
       "</tr>\n",
       "<tr>\n",
       "  <th>Df Model:</th>              <td>     8</td>      <th>                     </th>     <td> </td>   \n",
       "</tr>\n",
       "<tr>\n",
       "  <th>Covariance Type:</th>      <td>nonrobust</td>    <th>                     </th>     <td> </td>   \n",
       "</tr>\n",
       "</table>\n",
       "<table class=\"simpletable\">\n",
       "<tr>\n",
       "       <td></td>         <th>coef</th>     <th>std err</th>      <th>t</th>      <th>P>|t|</th>  <th>[0.025</th>    <th>0.975]</th>  \n",
       "</tr>\n",
       "<tr>\n",
       "  <th>Intercept</th>  <td>   -0.2426</td> <td>    0.027</td> <td>   -8.980</td> <td> 0.000</td> <td>   -0.296</td> <td>   -0.189</td>\n",
       "</tr>\n",
       "<tr>\n",
       "  <th>wusa</th>       <td>    0.0774</td> <td>    0.043</td> <td>    1.803</td> <td> 0.074</td> <td>   -0.008</td> <td>    0.162</td>\n",
       "</tr>\n",
       "<tr>\n",
       "  <th>jasper</th>     <td>   -0.2288</td> <td>    0.078</td> <td>   -2.929</td> <td> 0.004</td> <td>   -0.383</td> <td>   -0.074</td>\n",
       "</tr>\n",
       "<tr>\n",
       "  <th>westgreen</th>  <td>    0.0096</td> <td>    0.042</td> <td>    0.229</td> <td> 0.819</td> <td>   -0.073</td> <td>    0.092</td>\n",
       "</tr>\n",
       "<tr>\n",
       "  <th>chesapeake</th> <td>   -0.0321</td> <td>    0.034</td> <td>   -0.943</td> <td> 0.347</td> <td>   -0.099</td> <td>    0.035</td>\n",
       "</tr>\n",
       "<tr>\n",
       "  <th>tornetrask</th> <td>    0.0927</td> <td>    0.045</td> <td>    2.057</td> <td> 0.042</td> <td>    0.004</td> <td>    0.182</td>\n",
       "</tr>\n",
       "<tr>\n",
       "  <th>urals</th>      <td>    0.1854</td> <td>    0.091</td> <td>    2.027</td> <td> 0.045</td> <td>    0.005</td> <td>    0.366</td>\n",
       "</tr>\n",
       "<tr>\n",
       "  <th>mongolia</th>   <td>    0.0420</td> <td>    0.046</td> <td>    0.917</td> <td> 0.361</td> <td>   -0.049</td> <td>    0.133</td>\n",
       "</tr>\n",
       "<tr>\n",
       "  <th>tasman</th>     <td>    0.1155</td> <td>    0.030</td> <td>    3.834</td> <td> 0.000</td> <td>    0.056</td> <td>    0.175</td>\n",
       "</tr>\n",
       "</table>\n",
       "<table class=\"simpletable\">\n",
       "<tr>\n",
       "  <th>Omnibus:</th>       <td>12.501</td> <th>  Durbin-Watson:     </th> <td>   0.817</td>\n",
       "</tr>\n",
       "<tr>\n",
       "  <th>Prob(Omnibus):</th> <td> 0.002</td> <th>  Jarque-Bera (JB):  </th> <td>  17.388</td>\n",
       "</tr>\n",
       "<tr>\n",
       "  <th>Skew:</th>          <td> 0.490</td> <th>  Prob(JB):          </th> <td>0.000168</td>\n",
       "</tr>\n",
       "<tr>\n",
       "  <th>Kurtosis:</th>      <td> 4.384</td> <th>  Cond. No.          </th> <td>    12.9</td>\n",
       "</tr>\n",
       "</table><br/><br/>Warnings:<br/>[1] Standard Errors assume that the covariance matrix of the errors is correctly specified."
      ],
      "text/plain": [
       "<class 'statsmodels.iolib.summary.Summary'>\n",
       "\"\"\"\n",
       "                            OLS Regression Results                            \n",
       "==============================================================================\n",
       "Dep. Variable:                 nhtemp   R-squared:                       0.476\n",
       "Model:                            OLS   Adj. R-squared:                  0.446\n",
       "Method:                 Least Squares   F-statistic:                     15.47\n",
       "Date:                Tue, 25 Sep 2018   Prob (F-statistic):           5.03e-16\n",
       "Time:                        15:55:20   Log-Likelihood:                 50.995\n",
       "No. Observations:                 145   AIC:                            -83.99\n",
       "Df Residuals:                     136   BIC:                            -57.20\n",
       "Df Model:                           8                                         \n",
       "Covariance Type:            nonrobust                                         \n",
       "==============================================================================\n",
       "                 coef    std err          t      P>|t|      [0.025      0.975]\n",
       "------------------------------------------------------------------------------\n",
       "Intercept     -0.2426      0.027     -8.980      0.000      -0.296      -0.189\n",
       "wusa           0.0774      0.043      1.803      0.074      -0.008       0.162\n",
       "jasper        -0.2288      0.078     -2.929      0.004      -0.383      -0.074\n",
       "westgreen      0.0096      0.042      0.229      0.819      -0.073       0.092\n",
       "chesapeake    -0.0321      0.034     -0.943      0.347      -0.099       0.035\n",
       "tornetrask     0.0927      0.045      2.057      0.042       0.004       0.182\n",
       "urals          0.1854      0.091      2.027      0.045       0.005       0.366\n",
       "mongolia       0.0420      0.046      0.917      0.361      -0.049       0.133\n",
       "tasman         0.1155      0.030      3.834      0.000       0.056       0.175\n",
       "==============================================================================\n",
       "Omnibus:                       12.501   Durbin-Watson:                   0.817\n",
       "Prob(Omnibus):                  0.002   Jarque-Bera (JB):               17.388\n",
       "Skew:                           0.490   Prob(JB):                     0.000168\n",
       "Kurtosis:                       4.384   Cond. No.                         12.9\n",
       "==============================================================================\n",
       "\n",
       "Warnings:\n",
       "[1] Standard Errors assume that the covariance matrix of the errors is correctly specified.\n",
       "\"\"\""
      ]
     },
     "execution_count": 3,
     "metadata": {},
     "output_type": "execute_result"
    }
   ],
   "source": [
    "lmod = smf.ols(formula='nhtemp ~ wusa + jasper + westgreen + chesapeake + tornetrask + urals + mongolia + tasman',\n",
    "               data=globwarm).fit()\n",
    "lmod.summary()"
   ]
  },
  {
   "cell_type": "markdown",
   "metadata": {},
   "source": [
    "Plot successive residuals:"
   ]
  },
  {
   "cell_type": "code",
   "execution_count": 4,
   "metadata": {},
   "outputs": [
    {
     "data": {
      "image/png": "[encoded data removed]",
      "text/plain": [
       "<Figure size 432x288 with 1 Axes>"
      ]
     },
     "metadata": {
      "needs_background": "light"
     },
     "output_type": "display_data"
    }
   ],
   "source": [
    "plt.scatter(lmod.resid.iloc[:-1],lmod.resid.iloc[1:])\n",
    "plt.axhline(0,alpha=0.5)\n",
    "plt.axvline(0,alpha=0.5)\n",
    "plt.show()"
   ]
  },
  {
   "cell_type": "markdown",
   "metadata": {},
   "source": [
    "Compute the correlation:"
   ]
  },
  {
   "cell_type": "code",
   "execution_count": 5,
   "metadata": {},
   "outputs": [
    {
     "data": {
      "text/plain": [
       "array([[1.        , 0.58333899],\n",
       "       [0.58333899, 1.        ]])"
      ]
     },
     "execution_count": 5,
     "metadata": {},
     "output_type": "execute_result"
    }
   ],
   "source": [
    "np.corrcoef(lmod.resid.iloc[:-1],lmod.resid.iloc[1:])"
   ]
  },
  {
   "cell_type": "markdown",
   "metadata": {},
   "source": [
    "Fit the uncorrelated model and then iterate the fit. Produces result very similar to the correlation of the residuals. Different from the R correlation of 0.71"
   ]
  },
  {
   "cell_type": "code",
   "execution_count": 6,
   "metadata": {},
   "outputs": [
    {
     "data": {
      "text/plain": [
       "array([0.58221337])"
      ]
     },
     "execution_count": 6,
     "metadata": {},
     "output_type": "execute_result"
    }
   ],
   "source": [
    "# https://www.statsmodels.org/devel/generated/statsmodels.regression.linear_model.GLSAR.html\n",
    "# Generalized Least Squares with AR covariance structure\n",
    "\n",
    "globwarm = globwarm.dropna()\n",
    "X = sm.add_constant(globwarm.iloc[:,1:9])\n",
    "gmod = sm.GLSAR(globwarm.nhtemp, X, rho=1)\n",
    "res=gmod.iterative_fit(maxiter=6)\n",
    "gmod.rho"
   ]
  },
  {
   "cell_type": "markdown",
   "metadata": {},
   "source": [
    "Alternative method that shows the iterative nature of the solution:"
   ]
  },
  {
   "cell_type": "code",
   "execution_count": 7,
   "metadata": {},
   "outputs": [
    {
     "name": "stdout",
     "output_type": "stream",
     "text": [
      "AR coefficients: [0.]\n",
      "AR coefficients: [0.57494252]\n",
      "AR coefficients: [0.58194786]\n",
      "AR coefficients: [0.58220381]\n",
      "AR coefficients: [0.58221337]\n",
      "AR coefficients: [0.58221373]\n"
     ]
    }
   ],
   "source": [
    "gmod = sm.GLSAR(globwarm.nhtemp, X, rho=1)\n",
    "for i in range(6):\n",
    "     results = gmod.fit()\n",
    "     print(\"AR coefficients: {0}\".format(gmod.rho))\n",
    "     rho, sigma = sm.regression.yule_walker(results.resid,order=gmod.order)\n",
    "     gmod = sm.GLSAR(globwarm.nhtemp, X, rho)\n"
   ]
  },
  {
   "cell_type": "markdown",
   "metadata": {},
   "source": [
    "Read in the data for the blocked example. Need to make variety categorical. For reasons unclear to me, the mixed effect modeling function throws an error if the response is called *yield*. We create the same variable but with a different name: *grams*."
   ]
  },
  {
   "cell_type": "code",
   "execution_count": 8,
   "metadata": {},
   "outputs": [
    {
     "data": {
      "text/html": [
       "<div>\n",
       "<style scoped>\n",
       "    .dataframe tbody tr th:only-of-type {\n",
       "        vertical-align: middle;\n",
       "    }\n",
       "\n",
       "    .dataframe tbody tr th {\n",
       "        vertical-align: top;\n",
       "    }\n",
       "\n",
       "    .dataframe thead th {\n",
       "        text-align: right;\n",
       "    }\n",
       "</style>\n",
       "<table border=\"1\" class=\"dataframe\">\n",
       "  <thead>\n",
       "    <tr style=\"text-align: right;\">\n",
       "      <th></th>\n",
       "      <th>yield</th>\n",
       "      <th>block</th>\n",
       "      <th>variety</th>\n",
       "      <th>grams</th>\n",
       "    </tr>\n",
       "  </thead>\n",
       "  <tbody>\n",
       "    <tr>\n",
       "      <th>1</th>\n",
       "      <td>296</td>\n",
       "      <td>I</td>\n",
       "      <td>1</td>\n",
       "      <td>296</td>\n",
       "    </tr>\n",
       "    <tr>\n",
       "      <th>2</th>\n",
       "      <td>357</td>\n",
       "      <td>II</td>\n",
       "      <td>1</td>\n",
       "      <td>357</td>\n",
       "    </tr>\n",
       "    <tr>\n",
       "      <th>3</th>\n",
       "      <td>340</td>\n",
       "      <td>III</td>\n",
       "      <td>1</td>\n",
       "      <td>340</td>\n",
       "    </tr>\n",
       "    <tr>\n",
       "      <th>4</th>\n",
       "      <td>331</td>\n",
       "      <td>IV</td>\n",
       "      <td>1</td>\n",
       "      <td>331</td>\n",
       "    </tr>\n",
       "    <tr>\n",
       "      <th>5</th>\n",
       "      <td>348</td>\n",
       "      <td>V</td>\n",
       "      <td>1</td>\n",
       "      <td>348</td>\n",
       "    </tr>\n",
       "  </tbody>\n",
       "</table>\n",
       "</div>"
      ],
      "text/plain": [
       "   yield block variety  grams\n",
       "1    296     I       1    296\n",
       "2    357    II       1    357\n",
       "3    340   III       1    340\n",
       "4    331    IV       1    331\n",
       "5    348     V       1    348"
      ]
     },
     "execution_count": 8,
     "metadata": {},
     "output_type": "execute_result"
    }
   ],
   "source": [
    "oatvar = pd.read_csv(\"data/oatvar.csv\", index_col=0)\n",
    "oatvar['variety'] = oatvar['variety'].astype('category')\n",
    "oatvar['grams'] = oatvar['yield']\n",
    "oatvar.head()"
   ]
  },
  {
   "cell_type": "markdown",
   "metadata": {},
   "source": [
    "Can do mixed effect model but would need to calculate correlation from this."
   ]
  },
  {
   "cell_type": "code",
   "execution_count": 9,
   "metadata": {},
   "outputs": [
    {
     "data": {
      "text/html": [
       "<table class=\"simpletable\">\n",
       "<tr>\n",
       "       <td>Model:</td>       <td>MixedLM</td> <td>Dependent Variable:</td>   <td>grams</td>  \n",
       "</tr>\n",
       "<tr>\n",
       "  <td>No. Observations:</td>   <td>40</td>          <td>Method:</td>         <td>REML</td>   \n",
       "</tr>\n",
       "<tr>\n",
       "     <td>No. Groups:</td>       <td>5</td>          <td>Scale:</td>        <td>1336.9044</td>\n",
       "</tr>\n",
       "<tr>\n",
       "  <td>Min. group size:</td>     <td>8</td>        <td>Likelihood:</td>     <td>-170.6771</td>\n",
       "</tr>\n",
       "<tr>\n",
       "  <td>Max. group size:</td>     <td>8</td>        <td>Converged:</td>         <td>Yes</td>   \n",
       "</tr>\n",
       "<tr>\n",
       "  <td>Mean group size:</td>    <td>8.0</td>            <td></td>               <td></td>     \n",
       "</tr>\n",
       "</table>\n",
       "<table class=\"simpletable\">\n",
       "<tr>\n",
       "        <td></td>        <th>Coef.</th>  <th>Std.Err.</th>    <th>z</th>   <th>P>|z|</th> <th>[0.025</th>  <th>0.975]</th> \n",
       "</tr>\n",
       "<tr>\n",
       "  <th>Intercept</th>    <td>334.400</td>  <td>21.040</td>  <td>15.894</td> <td>0.000</td> <td>293.162</td> <td>375.638</td>\n",
       "</tr>\n",
       "<tr>\n",
       "  <th>variety[T.2]</th> <td>42.200</td>   <td>23.125</td>   <td>1.825</td> <td>0.068</td> <td>-3.124</td>  <td>87.524</td> \n",
       "</tr>\n",
       "<tr>\n",
       "  <th>variety[T.3]</th> <td>28.200</td>   <td>23.125</td>   <td>1.219</td> <td>0.223</td> <td>-17.124</td> <td>73.524</td> \n",
       "</tr>\n",
       "<tr>\n",
       "  <th>variety[T.4]</th> <td>-47.600</td>  <td>23.125</td>  <td>-2.058</td> <td>0.040</td> <td>-92.924</td> <td>-2.276</td> \n",
       "</tr>\n",
       "<tr>\n",
       "  <th>variety[T.5]</th> <td>105.000</td>  <td>23.125</td>   <td>4.541</td> <td>0.000</td> <td>59.676</td>  <td>150.324</td>\n",
       "</tr>\n",
       "<tr>\n",
       "  <th>variety[T.6]</th> <td>-3.800</td>   <td>23.125</td>  <td>-0.164</td> <td>0.869</td> <td>-49.124</td> <td>41.524</td> \n",
       "</tr>\n",
       "<tr>\n",
       "  <th>variety[T.7]</th> <td>-16.000</td>  <td>23.125</td>  <td>-0.692</td> <td>0.489</td> <td>-61.324</td> <td>29.324</td> \n",
       "</tr>\n",
       "<tr>\n",
       "  <th>variety[T.8]</th> <td>49.800</td>   <td>23.125</td>   <td>2.154</td> <td>0.031</td>  <td>4.476</td>  <td>95.124</td> \n",
       "</tr>\n",
       "<tr>\n",
       "  <th>Group Var</th>    <td>876.492</td>  <td>21.576</td>     <td></td>      <td></td>       <td></td>        <td></td>    \n",
       "</tr>\n",
       "</table>"
      ],
      "text/plain": [
       "<class 'statsmodels.iolib.summary2.Summary'>\n",
       "\"\"\"\n",
       "          Mixed Linear Model Regression Results\n",
       "==========================================================\n",
       "Model:             MixedLM  Dependent Variable:  grams    \n",
       "No. Observations:  40       Method:              REML     \n",
       "No. Groups:        5        Scale:               1336.9044\n",
       "Min. group size:   8        Likelihood:          -170.6771\n",
       "Max. group size:   8        Converged:           Yes      \n",
       "Mean group size:   8.0                                    \n",
       "----------------------------------------------------------\n",
       "              Coef.  Std.Err.   z    P>|z|  [0.025  0.975]\n",
       "----------------------------------------------------------\n",
       "Intercept    334.400   21.040 15.894 0.000 293.162 375.638\n",
       "variety[T.2]  42.200   23.125  1.825 0.068  -3.124  87.524\n",
       "variety[T.3]  28.200   23.125  1.219 0.223 -17.124  73.524\n",
       "variety[T.4] -47.600   23.125 -2.058 0.040 -92.924  -2.276\n",
       "variety[T.5] 105.000   23.125  4.541 0.000  59.676 150.324\n",
       "variety[T.6]  -3.800   23.125 -0.164 0.869 -49.124  41.524\n",
       "variety[T.7] -16.000   23.125 -0.692 0.489 -61.324  29.324\n",
       "variety[T.8]  49.800   23.125  2.154 0.031   4.476  95.124\n",
       "Group Var    876.492   21.576                             \n",
       "==========================================================\n",
       "\n",
       "\"\"\""
      ]
     },
     "execution_count": 9,
     "metadata": {},
     "output_type": "execute_result"
    }
   ],
   "source": [
    "mmod = smf.mixedlm(\"grams ~ variety\",oatvar,groups=oatvar['block']).fit()\n",
    "mmod.summary()"
   ]
  },
  {
   "cell_type": "markdown",
   "metadata": {},
   "source": [
    "GEE model is also possible"
   ]
  },
  {
   "cell_type": "code",
   "execution_count": 10,
   "metadata": {},
   "outputs": [
    {
     "data": {
      "text/html": [
       "<table class=\"simpletable\">\n",
       "<caption>GEE Regression Results</caption>\n",
       "<tr>\n",
       "  <th>Dep. Variable:</th>                <td>grams</td>        <th>  No. Observations:  </th>    <td>40</td>   \n",
       "</tr>\n",
       "<tr>\n",
       "  <th>Model:</th>                         <td>GEE</td>         <th>  No. clusters:      </th>     <td>5</td>   \n",
       "</tr>\n",
       "<tr>\n",
       "  <th>Method:</th>                    <td>Generalized</td>     <th>  Min. cluster size: </th>     <td>8</td>   \n",
       "</tr>\n",
       "<tr>\n",
       "  <th></th>                      <td>Estimating Equations</td> <th>  Max. cluster size: </th>     <td>8</td>   \n",
       "</tr>\n",
       "<tr>\n",
       "  <th>Family:</th>                     <td>Gaussian</td>       <th>  Mean cluster size: </th>    <td>8.0</td>  \n",
       "</tr>\n",
       "<tr>\n",
       "  <th>Dependence structure:</th>     <td>Exchangeable</td>     <th>  Num. iterations:   </th>     <td>2</td>   \n",
       "</tr>\n",
       "<tr>\n",
       "  <th>Date:</th>                   <td>Tue, 25 Sep 2018</td>   <th>  Scale:             </th> <td>2213.400</td>\n",
       "</tr>\n",
       "<tr>\n",
       "  <th>Covariance type: </th>            <td>robust</td>        <th>  Time:              </th> <td>15:55:20</td>\n",
       "</tr>\n",
       "</table>\n",
       "<table class=\"simpletable\">\n",
       "<tr>\n",
       "        <td></td>          <th>coef</th>     <th>std err</th>      <th>z</th>      <th>P>|z|</th>  <th>[0.025</th>    <th>0.975]</th>  \n",
       "</tr>\n",
       "<tr>\n",
       "  <th>Intercept</th>    <td>  334.4000</td> <td>    9.409</td> <td>   35.541</td> <td> 0.000</td> <td>  315.959</td> <td>  352.841</td>\n",
       "</tr>\n",
       "<tr>\n",
       "  <th>variety[T.2]</th> <td>   42.2000</td> <td>   22.420</td> <td>    1.882</td> <td> 0.060</td> <td>   -1.743</td> <td>   86.143</td>\n",
       "</tr>\n",
       "<tr>\n",
       "  <th>variety[T.3]</th> <td>   28.2000</td> <td>   32.653</td> <td>    0.864</td> <td> 0.388</td> <td>  -35.798</td> <td>   92.198</td>\n",
       "</tr>\n",
       "<tr>\n",
       "  <th>variety[T.4]</th> <td>  -47.6000</td> <td>   17.136</td> <td>   -2.778</td> <td> 0.005</td> <td>  -81.186</td> <td>  -14.014</td>\n",
       "</tr>\n",
       "<tr>\n",
       "  <th>variety[T.5]</th> <td>  105.0000</td> <td>   23.634</td> <td>    4.443</td> <td> 0.000</td> <td>   58.678</td> <td>  151.322</td>\n",
       "</tr>\n",
       "<tr>\n",
       "  <th>variety[T.6]</th> <td>   -3.8000</td> <td>   14.750</td> <td>   -0.258</td> <td> 0.797</td> <td>  -32.709</td> <td>   25.109</td>\n",
       "</tr>\n",
       "<tr>\n",
       "  <th>variety[T.7]</th> <td>  -16.0000</td> <td>   26.032</td> <td>   -0.615</td> <td> 0.539</td> <td>  -67.022</td> <td>   35.022</td>\n",
       "</tr>\n",
       "<tr>\n",
       "  <th>variety[T.8]</th> <td>   49.8000</td> <td>   34.238</td> <td>    1.455</td> <td> 0.146</td> <td>  -17.306</td> <td>  116.906</td>\n",
       "</tr>\n",
       "</table>\n",
       "<table class=\"simpletable\">\n",
       "<tr>\n",
       "  <th>Skew:</th>          <td>      0.0045</td> <th>  Kurtosis:          </th> <td>     -0.2204</td>\n",
       "</tr>\n",
       "<tr>\n",
       "  <th>Centered skew:</th> <td>      0.4576</td> <th>  Centered kurtosis: </th> <td>      0.0147</td>\n",
       "</tr>\n",
       "</table>"
      ],
      "text/plain": [
       "<class 'statsmodels.iolib.summary.Summary'>\n",
       "\"\"\"\n",
       "                               GEE Regression Results                              \n",
       "===================================================================================\n",
       "Dep. Variable:                       grams   No. Observations:                   40\n",
       "Model:                                 GEE   No. clusters:                        5\n",
       "Method:                        Generalized   Min. cluster size:                   8\n",
       "                      Estimating Equations   Max. cluster size:                   8\n",
       "Family:                           Gaussian   Mean cluster size:                 8.0\n",
       "Dependence structure:         Exchangeable   Num. iterations:                     2\n",
       "Date:                     Tue, 25 Sep 2018   Scale:                        2213.400\n",
       "Covariance type:                    robust   Time:                         15:55:20\n",
       "================================================================================\n",
       "                   coef    std err          z      P>|z|      [0.025      0.975]\n",
       "--------------------------------------------------------------------------------\n",
       "Intercept      334.4000      9.409     35.541      0.000     315.959     352.841\n",
       "variety[T.2]    42.2000     22.420      1.882      0.060      -1.743      86.143\n",
       "variety[T.3]    28.2000     32.653      0.864      0.388     -35.798      92.198\n",
       "variety[T.4]   -47.6000     17.136     -2.778      0.005     -81.186     -14.014\n",
       "variety[T.5]   105.0000     23.634      4.443      0.000      58.678     151.322\n",
       "variety[T.6]    -3.8000     14.750     -0.258      0.797     -32.709      25.109\n",
       "variety[T.7]   -16.0000     26.032     -0.615      0.539     -67.022      35.022\n",
       "variety[T.8]    49.8000     34.238      1.455      0.146     -17.306     116.906\n",
       "==============================================================================\n",
       "Skew:                          0.0045   Kurtosis:                      -0.2204\n",
       "Centered skew:                 0.4576   Centered kurtosis:              0.0147\n",
       "==============================================================================\n",
       "\"\"\""
      ]
     },
     "execution_count": 10,
     "metadata": {},
     "output_type": "execute_result"
    }
   ],
   "source": [
    "ind = sm.cov_struct.Exchangeable()\n",
    "gmod = smf.gee(\"grams ~ variety\", \"block\", oatvar, cov_struct = ind ).fit()\n",
    "gmod.summary()"
   ]
  },
  {
   "cell_type": "code",
   "execution_count": 11,
   "metadata": {},
   "outputs": [
    {
     "data": {
      "text/plain": [
       "'The correlation between two observations in the same cluster is 0.336'"
      ]
     },
     "execution_count": 11,
     "metadata": {},
     "output_type": "execute_result"
    }
   ],
   "source": [
    "ind.summary()"
   ]
  },
  {
   "cell_type": "markdown",
   "metadata": {},
   "source": [
    "## Weighted Least Squares\n",
    "\n",
    "Read in the French Presidential Election data:"
   ]
  },
  {
   "cell_type": "code",
   "execution_count": 12,
   "metadata": {},
   "outputs": [
    {
     "data": {
      "text/html": [
       "<div>\n",
       "<style scoped>\n",
       "    .dataframe tbody tr th:only-of-type {\n",
       "        vertical-align: middle;\n",
       "    }\n",
       "\n",
       "    .dataframe tbody tr th {\n",
       "        vertical-align: top;\n",
       "    }\n",
       "\n",
       "    .dataframe thead th {\n",
       "        text-align: right;\n",
       "    }\n",
       "</style>\n",
       "<table border=\"1\" class=\"dataframe\">\n",
       "  <thead>\n",
       "    <tr style=\"text-align: right;\">\n",
       "      <th></th>\n",
       "      <th>EI</th>\n",
       "      <th>A</th>\n",
       "      <th>B</th>\n",
       "      <th>C</th>\n",
       "      <th>D</th>\n",
       "      <th>E</th>\n",
       "      <th>F</th>\n",
       "      <th>G</th>\n",
       "      <th>H</th>\n",
       "      <th>J</th>\n",
       "      <th>K</th>\n",
       "      <th>A2</th>\n",
       "      <th>B2</th>\n",
       "      <th>N</th>\n",
       "    </tr>\n",
       "  </thead>\n",
       "  <tbody>\n",
       "    <tr>\n",
       "      <th>Ain</th>\n",
       "      <td>260</td>\n",
       "      <td>51</td>\n",
       "      <td>64</td>\n",
       "      <td>36</td>\n",
       "      <td>23</td>\n",
       "      <td>9</td>\n",
       "      <td>5</td>\n",
       "      <td>4</td>\n",
       "      <td>4</td>\n",
       "      <td>3</td>\n",
       "      <td>3</td>\n",
       "      <td>105</td>\n",
       "      <td>114</td>\n",
       "      <td>17</td>\n",
       "    </tr>\n",
       "    <tr>\n",
       "      <th>Alpes</th>\n",
       "      <td>75</td>\n",
       "      <td>14</td>\n",
       "      <td>17</td>\n",
       "      <td>9</td>\n",
       "      <td>9</td>\n",
       "      <td>3</td>\n",
       "      <td>1</td>\n",
       "      <td>2</td>\n",
       "      <td>1</td>\n",
       "      <td>1</td>\n",
       "      <td>1</td>\n",
       "      <td>32</td>\n",
       "      <td>31</td>\n",
       "      <td>5</td>\n",
       "    </tr>\n",
       "    <tr>\n",
       "      <th>Ariege</th>\n",
       "      <td>107</td>\n",
       "      <td>27</td>\n",
       "      <td>18</td>\n",
       "      <td>13</td>\n",
       "      <td>17</td>\n",
       "      <td>2</td>\n",
       "      <td>2</td>\n",
       "      <td>2</td>\n",
       "      <td>1</td>\n",
       "      <td>1</td>\n",
       "      <td>1</td>\n",
       "      <td>57</td>\n",
       "      <td>33</td>\n",
       "      <td>6</td>\n",
       "    </tr>\n",
       "    <tr>\n",
       "      <th>Bouches.du.Rhone</th>\n",
       "      <td>1036</td>\n",
       "      <td>191</td>\n",
       "      <td>204</td>\n",
       "      <td>119</td>\n",
       "      <td>205</td>\n",
       "      <td>29</td>\n",
       "      <td>13</td>\n",
       "      <td>13</td>\n",
       "      <td>10</td>\n",
       "      <td>10</td>\n",
       "      <td>6</td>\n",
       "      <td>466</td>\n",
       "      <td>364</td>\n",
       "      <td>30</td>\n",
       "    </tr>\n",
       "    <tr>\n",
       "      <th>Charente.Maritime</th>\n",
       "      <td>367</td>\n",
       "      <td>71</td>\n",
       "      <td>76</td>\n",
       "      <td>47</td>\n",
       "      <td>37</td>\n",
       "      <td>8</td>\n",
       "      <td>34</td>\n",
       "      <td>5</td>\n",
       "      <td>4</td>\n",
       "      <td>4</td>\n",
       "      <td>2</td>\n",
       "      <td>163</td>\n",
       "      <td>142</td>\n",
       "      <td>17</td>\n",
       "    </tr>\n",
       "  </tbody>\n",
       "</table>\n",
       "</div>"
      ],
      "text/plain": [
       "                     EI    A    B    C    D   E   F   G   H   J  K   A2   B2  \\\n",
       "Ain                 260   51   64   36   23   9   5   4   4   3  3  105  114   \n",
       "Alpes                75   14   17    9    9   3   1   2   1   1  1   32   31   \n",
       "Ariege              107   27   18   13   17   2   2   2   1   1  1   57   33   \n",
       "Bouches.du.Rhone   1036  191  204  119  205  29  13  13  10  10  6  466  364   \n",
       "Charente.Maritime   367   71   76   47   37   8  34   5   4   4  2  163  142   \n",
       "\n",
       "                    N  \n",
       "Ain                17  \n",
       "Alpes               5  \n",
       "Ariege              6  \n",
       "Bouches.du.Rhone   30  \n",
       "Charente.Maritime  17  "
      ]
     },
     "execution_count": 12,
     "metadata": {},
     "output_type": "execute_result"
    }
   ],
   "source": [
    "fpe = pd.read_csv(\"data/fpe.csv\",index_col=0)\n",
    "fpe.head()"
   ]
  },
  {
   "cell_type": "markdown",
   "metadata": {},
   "source": [
    "Fit the model with weights:"
   ]
  },
  {
   "cell_type": "code",
   "execution_count": 13,
   "metadata": {},
   "outputs": [
    {
     "data": {
      "text/plain": [
       "A    1.067130\n",
       "B   -0.105051\n",
       "C    0.245958\n",
       "D    0.926188\n",
       "E    0.249397\n",
       "F    0.755110\n",
       "G    1.972212\n",
       "H   -0.566217\n",
       "J    0.611642\n",
       "K    1.210658\n",
       "N    0.529353\n",
       "dtype: float64"
      ]
     },
     "execution_count": 13,
     "metadata": {},
     "output_type": "execute_result"
    }
   ],
   "source": [
    "wmod = smf.wls(\"A2 ~ A + B + C + D + E + F + G + H + J + K +N -1\", data=fpe, weights = 1/fpe.EI ).fit()\n",
    "wmod.params"
   ]
  },
  {
   "cell_type": "markdown",
   "metadata": {},
   "source": [
    "Fit the model without weights:"
   ]
  },
  {
   "cell_type": "code",
   "execution_count": 14,
   "metadata": {},
   "outputs": [
    {
     "data": {
      "text/plain": [
       "A    1.075148\n",
       "B   -0.124559\n",
       "C    0.257447\n",
       "D    0.904537\n",
       "E    0.670677\n",
       "F    0.782533\n",
       "G    2.165655\n",
       "H   -0.854288\n",
       "J    0.144419\n",
       "K    0.518133\n",
       "N    0.558272\n",
       "dtype: float64"
      ]
     },
     "execution_count": 14,
     "metadata": {},
     "output_type": "execute_result"
    }
   ],
   "source": [
    "lmod = smf.wls(\"A2 ~ A + B + C + D + E + F + G + H + J + K +N -1\", data=fpe).fit()\n",
    "lmod.params"
   ]
  },
  {
   "cell_type": "markdown",
   "metadata": {},
   "source": [
    "Multiplying the weights by a constant makes no difference:"
   ]
  },
  {
   "cell_type": "code",
   "execution_count": 15,
   "metadata": {},
   "outputs": [
    {
     "data": {
      "text/plain": [
       "A    1.067130\n",
       "B   -0.105051\n",
       "C    0.245958\n",
       "D    0.926188\n",
       "E    0.249397\n",
       "F    0.755110\n",
       "G    1.972212\n",
       "H   -0.566217\n",
       "J    0.611642\n",
       "K    1.210658\n",
       "N    0.529353\n",
       "dtype: float64"
      ]
     },
     "execution_count": 15,
     "metadata": {},
     "output_type": "execute_result"
    }
   ],
   "source": [
    "wmod = smf.wls(\"A2 ~ A + B + C + D + E + F + G + H + J + K +N -1\", data=fpe, weights = 53/fpe.EI ).fit()\n",
    "wmod.params"
   ]
  },
  {
   "cell_type": "markdown",
   "metadata": {},
   "source": [
    "Fit a reduced model. Doesn't seem to be an offset option so need to modify the response:"
   ]
  },
  {
   "cell_type": "code",
   "execution_count": 16,
   "metadata": {},
   "outputs": [
    {
     "data": {
      "text/plain": [
       "C    0.225773\n",
       "D    0.969977\n",
       "E    0.390204\n",
       "F    0.744240\n",
       "N    0.608539\n",
       "dtype: float64"
      ]
     },
     "execution_count": 16,
     "metadata": {},
     "output_type": "execute_result"
    }
   ],
   "source": [
    "y = fpe.A2 - fpe.A - fpe.G - fpe.K\n",
    "X = fpe.loc[:,[\"C\",\"D\",\"E\",\"F\",\"N\"]]\n",
    "wmod = sm.WLS(y, X, weights = 53/fpe.EI ).fit()\n",
    "wmod.params"
   ]
  },
  {
   "cell_type": "markdown",
   "metadata": {},
   "source": [
    "Contrained least squares - need some trickery to get the weights right."
   ]
  },
  {
   "cell_type": "code",
   "execution_count": 17,
   "metadata": {},
   "outputs": [],
   "source": [
    "y = fpe.A2\n",
    "X = fpe.loc[:,[\"A\",\"B\",\"C\",\"D\",\"E\",\"F\",\"G\",\"H\",\"J\",\"K\",\"N\"]]\n",
    "weights = 1/fpe.EI\n",
    "Xw = (X.T * np.sqrt(weights)).T\n",
    "yw = y * np.sqrt(weights)"
   ]
  },
  {
   "cell_type": "code",
   "execution_count": 18,
   "metadata": {},
   "outputs": [
    {
     "data": {
      "text/plain": [
       "A    1.000\n",
       "B    0.000\n",
       "C    0.208\n",
       "D    0.969\n",
       "E    0.359\n",
       "F    0.743\n",
       "G    1.000\n",
       "H    0.367\n",
       "J    0.000\n",
       "K    1.000\n",
       "N    0.575\n",
       "dtype: float64"
      ]
     },
     "execution_count": 18,
     "metadata": {},
     "output_type": "execute_result"
    }
   ],
   "source": [
    "res = sp.optimize.lsq_linear(Xw, yw, bounds=(0, 1))\n",
    "pd.Series(np.round(res.x,3),index=lmod.params.index)"
   ]
  },
  {
   "cell_type": "markdown",
   "metadata": {},
   "source": [
    "IRWLS example"
   ]
  },
  {
   "cell_type": "code",
   "execution_count": 19,
   "metadata": {},
   "outputs": [
    {
     "data": {
      "text/html": [
       "<div>\n",
       "<style scoped>\n",
       "    .dataframe tbody tr th:only-of-type {\n",
       "        vertical-align: middle;\n",
       "    }\n",
       "\n",
       "    .dataframe tbody tr th {\n",
       "        vertical-align: top;\n",
       "    }\n",
       "\n",
       "    .dataframe thead th {\n",
       "        text-align: right;\n",
       "    }\n",
       "</style>\n",
       "<table border=\"1\" class=\"dataframe\">\n",
       "  <thead>\n",
       "    <tr style=\"text-align: right;\">\n",
       "      <th></th>\n",
       "      <th>speed</th>\n",
       "      <th>dist</th>\n",
       "    </tr>\n",
       "  </thead>\n",
       "  <tbody>\n",
       "    <tr>\n",
       "      <th>0</th>\n",
       "      <td>4</td>\n",
       "      <td>2</td>\n",
       "    </tr>\n",
       "    <tr>\n",
       "      <th>1</th>\n",
       "      <td>4</td>\n",
       "      <td>10</td>\n",
       "    </tr>\n",
       "    <tr>\n",
       "      <th>2</th>\n",
       "      <td>7</td>\n",
       "      <td>4</td>\n",
       "    </tr>\n",
       "    <tr>\n",
       "      <th>3</th>\n",
       "      <td>7</td>\n",
       "      <td>22</td>\n",
       "    </tr>\n",
       "    <tr>\n",
       "      <th>4</th>\n",
       "      <td>8</td>\n",
       "      <td>16</td>\n",
       "    </tr>\n",
       "  </tbody>\n",
       "</table>\n",
       "</div>"
      ],
      "text/plain": [
       "   speed  dist\n",
       "0      4     2\n",
       "1      4    10\n",
       "2      7     4\n",
       "3      7    22\n",
       "4      8    16"
      ]
     },
     "execution_count": 19,
     "metadata": {},
     "output_type": "execute_result"
    }
   ],
   "source": [
    "cars = pd.read_csv(\"data/cars.csv\")\n",
    "cars.head()"
   ]
  },
  {
   "cell_type": "markdown",
   "metadata": {},
   "source": [
    "Show that heteroscedascity is present"
   ]
  },
  {
   "cell_type": "code",
   "execution_count": 20,
   "metadata": {},
   "outputs": [
    {
     "data": {
      "image/png": "[encoded data removed]",
      "text/plain": [
       "<Figure size 432x288 with 1 Axes>"
      ]
     },
     "metadata": {
      "needs_background": "light"
     },
     "output_type": "display_data"
    }
   ],
   "source": [
    "lmod = smf.ols(formula='dist ~ speed', data=cars).fit()\n",
    "plt.scatter(lmod.fittedvalues,lmod.resid)\n",
    "plt.axhline(0)\n",
    "plt.show()"
   ]
  },
  {
   "cell_type": "code",
   "execution_count": 21,
   "metadata": {},
   "outputs": [
    {
     "data": {
      "text/plain": [
       "Intercept   -17.579095\n",
       "speed         3.932409\n",
       "dtype: float64"
      ]
     },
     "execution_count": 21,
     "metadata": {},
     "output_type": "execute_result"
    }
   ],
   "source": [
    "lmod.params"
   ]
  },
  {
   "cell_type": "markdown",
   "metadata": {},
   "source": [
    "Iterate once using absolute residuals as response for linear relationship in the SD"
   ]
  },
  {
   "cell_type": "code",
   "execution_count": 22,
   "metadata": {},
   "outputs": [
    {
     "data": {
      "text/plain": [
       "(-3.8198808759124097, Intercept   -11.180437\n",
       " speed         3.541541\n",
       " dtype: float64)"
      ]
     },
     "execution_count": 22,
     "metadata": {},
     "output_type": "execute_result"
    }
   ],
   "source": [
    "gamma = np.mean(np.abs(lmod.resid) - cars.speed)\n",
    "lmod = smf.wls(formula='dist ~ speed', data=cars, weights=np.sqrt(1/(gamma+cars.speed))).fit()\n",
    "gamma, lmod.params"
   ]
  },
  {
   "cell_type": "markdown",
   "metadata": {},
   "source": [
    "Plot the weights"
   ]
  },
  {
   "cell_type": "code",
   "execution_count": 23,
   "metadata": {},
   "outputs": [
    {
     "data": {
      "image/png": "[encoded data removed]",
      "text/plain": [
       "<Figure size 432x288 with 1 Axes>"
      ]
     },
     "metadata": {
      "needs_background": "light"
     },
     "output_type": "display_data"
    }
   ],
   "source": [
    "weights=np.sqrt(1/(gamma+cars.speed))\n",
    "plt.scatter(cars.speed, weights)\n",
    "plt.show()"
   ]
  },
  {
   "cell_type": "markdown",
   "metadata": {},
   "source": [
    "## Testing for Lack of fit \n",
    "\n",
    "Read in the data:"
   ]
  },
  {
   "cell_type": "code",
   "execution_count": 24,
   "metadata": {},
   "outputs": [
    {
     "data": {
      "text/html": [
       "<div>\n",
       "<style scoped>\n",
       "    .dataframe tbody tr th:only-of-type {\n",
       "        vertical-align: middle;\n",
       "    }\n",
       "\n",
       "    .dataframe tbody tr th {\n",
       "        vertical-align: top;\n",
       "    }\n",
       "\n",
       "    .dataframe thead th {\n",
       "        text-align: right;\n",
       "    }\n",
       "</style>\n",
       "<table border=\"1\" class=\"dataframe\">\n",
       "  <thead>\n",
       "    <tr style=\"text-align: right;\">\n",
       "      <th></th>\n",
       "      <th>Fe</th>\n",
       "      <th>loss</th>\n",
       "    </tr>\n",
       "  </thead>\n",
       "  <tbody>\n",
       "    <tr>\n",
       "      <th>0</th>\n",
       "      <td>0.01</td>\n",
       "      <td>127.6</td>\n",
       "    </tr>\n",
       "    <tr>\n",
       "      <th>1</th>\n",
       "      <td>0.48</td>\n",
       "      <td>124.0</td>\n",
       "    </tr>\n",
       "    <tr>\n",
       "      <th>2</th>\n",
       "      <td>0.71</td>\n",
       "      <td>110.8</td>\n",
       "    </tr>\n",
       "    <tr>\n",
       "      <th>3</th>\n",
       "      <td>0.95</td>\n",
       "      <td>103.9</td>\n",
       "    </tr>\n",
       "    <tr>\n",
       "      <th>4</th>\n",
       "      <td>1.19</td>\n",
       "      <td>101.5</td>\n",
       "    </tr>\n",
       "  </tbody>\n",
       "</table>\n",
       "</div>"
      ],
      "text/plain": [
       "     Fe   loss\n",
       "0  0.01  127.6\n",
       "1  0.48  124.0\n",
       "2  0.71  110.8\n",
       "3  0.95  103.9\n",
       "4  1.19  101.5"
      ]
     },
     "execution_count": 24,
     "metadata": {},
     "output_type": "execute_result"
    }
   ],
   "source": [
    "corrosion = pd.read_csv(\"data/corrosion.csv\")\n",
    "corrosion.head()"
   ]
  },
  {
   "cell_type": "markdown",
   "metadata": {},
   "source": [
    "Fit the model:"
   ]
  },
  {
   "cell_type": "code",
   "execution_count": 25,
   "metadata": {},
   "outputs": [
    {
     "name": "stderr",
     "output_type": "stream",
     "text": [
      "/anaconda/lib/python3.7/site-packages/scipy/stats/stats.py:1394: UserWarning: kurtosistest only valid for n>=20 ... continuing anyway, n=13\n",
      "  \"anyway, n=%i\" % int(n))\n"
     ]
    },
    {
     "data": {
      "text/html": [
       "<table class=\"simpletable\">\n",
       "<caption>OLS Regression Results</caption>\n",
       "<tr>\n",
       "  <th>Dep. Variable:</th>          <td>loss</td>       <th>  R-squared:         </th> <td>   0.970</td>\n",
       "</tr>\n",
       "<tr>\n",
       "  <th>Model:</th>                   <td>OLS</td>       <th>  Adj. R-squared:    </th> <td>   0.967</td>\n",
       "</tr>\n",
       "<tr>\n",
       "  <th>Method:</th>             <td>Least Squares</td>  <th>  F-statistic:       </th> <td>   352.3</td>\n",
       "</tr>\n",
       "<tr>\n",
       "  <th>Date:</th>             <td>Tue, 25 Sep 2018</td> <th>  Prob (F-statistic):</th> <td>1.06e-09</td>\n",
       "</tr>\n",
       "<tr>\n",
       "  <th>Time:</th>                 <td>15:55:20</td>     <th>  Log-Likelihood:    </th> <td> -31.890</td>\n",
       "</tr>\n",
       "<tr>\n",
       "  <th>No. Observations:</th>      <td>    13</td>      <th>  AIC:               </th> <td>   67.78</td>\n",
       "</tr>\n",
       "<tr>\n",
       "  <th>Df Residuals:</th>          <td>    11</td>      <th>  BIC:               </th> <td>   68.91</td>\n",
       "</tr>\n",
       "<tr>\n",
       "  <th>Df Model:</th>              <td>     1</td>      <th>                     </th>     <td> </td>   \n",
       "</tr>\n",
       "<tr>\n",
       "  <th>Covariance Type:</th>      <td>nonrobust</td>    <th>                     </th>     <td> </td>   \n",
       "</tr>\n",
       "</table>\n",
       "<table class=\"simpletable\">\n",
       "<tr>\n",
       "      <td></td>         <th>coef</th>     <th>std err</th>      <th>t</th>      <th>P>|t|</th>  <th>[0.025</th>    <th>0.975]</th>  \n",
       "</tr>\n",
       "<tr>\n",
       "  <th>Intercept</th> <td>  129.7866</td> <td>    1.403</td> <td>   92.524</td> <td> 0.000</td> <td>  126.699</td> <td>  132.874</td>\n",
       "</tr>\n",
       "<tr>\n",
       "  <th>Fe</th>        <td>  -24.0199</td> <td>    1.280</td> <td>  -18.769</td> <td> 0.000</td> <td>  -26.837</td> <td>  -21.203</td>\n",
       "</tr>\n",
       "</table>\n",
       "<table class=\"simpletable\">\n",
       "<tr>\n",
       "  <th>Omnibus:</th>       <td> 1.170</td> <th>  Durbin-Watson:     </th> <td>   2.535</td>\n",
       "</tr>\n",
       "<tr>\n",
       "  <th>Prob(Omnibus):</th> <td> 0.557</td> <th>  Jarque-Bera (JB):  </th> <td>   0.958</td>\n",
       "</tr>\n",
       "<tr>\n",
       "  <th>Skew:</th>          <td> 0.551</td> <th>  Prob(JB):          </th> <td>   0.619</td>\n",
       "</tr>\n",
       "<tr>\n",
       "  <th>Kurtosis:</th>      <td> 2.255</td> <th>  Cond. No.          </th> <td>    2.99</td>\n",
       "</tr>\n",
       "</table><br/><br/>Warnings:<br/>[1] Standard Errors assume that the covariance matrix of the errors is correctly specified."
      ],
      "text/plain": [
       "<class 'statsmodels.iolib.summary.Summary'>\n",
       "\"\"\"\n",
       "                            OLS Regression Results                            \n",
       "==============================================================================\n",
       "Dep. Variable:                   loss   R-squared:                       0.970\n",
       "Model:                            OLS   Adj. R-squared:                  0.967\n",
       "Method:                 Least Squares   F-statistic:                     352.3\n",
       "Date:                Tue, 25 Sep 2018   Prob (F-statistic):           1.06e-09\n",
       "Time:                        15:55:20   Log-Likelihood:                -31.890\n",
       "No. Observations:                  13   AIC:                             67.78\n",
       "Df Residuals:                      11   BIC:                             68.91\n",
       "Df Model:                           1                                         \n",
       "Covariance Type:            nonrobust                                         \n",
       "==============================================================================\n",
       "                 coef    std err          t      P>|t|      [0.025      0.975]\n",
       "------------------------------------------------------------------------------\n",
       "Intercept    129.7866      1.403     92.524      0.000     126.699     132.874\n",
       "Fe           -24.0199      1.280    -18.769      0.000     -26.837     -21.203\n",
       "==============================================================================\n",
       "Omnibus:                        1.170   Durbin-Watson:                   2.535\n",
       "Prob(Omnibus):                  0.557   Jarque-Bera (JB):                0.958\n",
       "Skew:                           0.551   Prob(JB):                        0.619\n",
       "Kurtosis:                       2.255   Cond. No.                         2.99\n",
       "==============================================================================\n",
       "\n",
       "Warnings:\n",
       "[1] Standard Errors assume that the covariance matrix of the errors is correctly specified.\n",
       "\"\"\""
      ]
     },
     "execution_count": 25,
     "metadata": {},
     "output_type": "execute_result"
    }
   ],
   "source": [
    "lmod = smf.ols(formula='loss ~ Fe', data=corrosion).fit()\n",
    "lmod.summary()"
   ]
  },
  {
   "cell_type": "markdown",
   "metadata": {},
   "source": [
    "Set up the plot:"
   ]
  },
  {
   "cell_type": "code",
   "execution_count": 26,
   "metadata": {},
   "outputs": [
    {
     "data": {
      "text/plain": [
       "[<matplotlib.lines.Line2D at 0x1c1bec50f0>]"
      ]
     },
     "execution_count": 26,
     "metadata": {},
     "output_type": "execute_result"
    },
    {
     "data": {
      "image/png": "[encoded data removed]",
      "text/plain": [
       "<Figure size 432x288 with 1 Axes>"
      ]
     },
     "metadata": {
      "needs_background": "light"
     },
     "output_type": "display_data"
    }
   ],
   "source": [
    "fig, ax = plt.subplots()\n",
    "ax.scatter(corrosion.Fe, corrosion.loss)\n",
    "plt.xlabel(\"Fe\")\n",
    "plt.ylabel(\"loss\")\n",
    "xr = np.array(ax.get_xlim())\n",
    "ax.plot(xr, lmod.params[0] + lmod.params[1] * xr)"
   ]
  },
  {
   "cell_type": "markdown",
   "metadata": {},
   "source": [
    "Fit the ANOVA-style model to get the replicate fits:"
   ]
  },
  {
   "cell_type": "code",
   "execution_count": 27,
   "metadata": {},
   "outputs": [],
   "source": [
    "corrosion['Fefac'] = corrosion['Fe'].astype('category')\n",
    "amod = smf.ols(formula='loss ~ Fefac', data=corrosion).fit()\n",
    "ax.scatter(corrosion.Fe, amod.fittedvalues, marker='x')\n",
    "plt.show()"
   ]
  },
  {
   "cell_type": "markdown",
   "metadata": {},
   "source": [
    "Last line contains the answer. Can ignore annoying warnings."
   ]
  },
  {
   "cell_type": "code",
   "execution_count": 28,
   "metadata": {},
   "outputs": [
    {
     "name": "stderr",
     "output_type": "stream",
     "text": [
      "/anaconda/lib/python3.7/site-packages/scipy/stats/_distn_infrastructure.py:879: RuntimeWarning: invalid value encountered in greater\n",
      "  return (self.a < x) & (x < self.b)\n",
      "/anaconda/lib/python3.7/site-packages/scipy/stats/_distn_infrastructure.py:879: RuntimeWarning: invalid value encountered in less\n",
      "  return (self.a < x) & (x < self.b)\n",
      "/anaconda/lib/python3.7/site-packages/scipy/stats/_distn_infrastructure.py:1821: RuntimeWarning: invalid value encountered in less_equal\n",
      "  cond2 = cond0 & (x <= self.a)\n"
     ]
    },
    {
     "data": {
      "text/html": [
       "<div>\n",
       "<style scoped>\n",
       "    .dataframe tbody tr th:only-of-type {\n",
       "        vertical-align: middle;\n",
       "    }\n",
       "\n",
       "    .dataframe tbody tr th {\n",
       "        vertical-align: top;\n",
       "    }\n",
       "\n",
       "    .dataframe thead th {\n",
       "        text-align: right;\n",
       "    }\n",
       "</style>\n",
       "<table border=\"1\" class=\"dataframe\">\n",
       "  <thead>\n",
       "    <tr style=\"text-align: right;\">\n",
       "      <th></th>\n",
       "      <th>df_resid</th>\n",
       "      <th>ssr</th>\n",
       "      <th>df_diff</th>\n",
       "      <th>ss_diff</th>\n",
       "      <th>F</th>\n",
       "      <th>Pr(&gt;F)</th>\n",
       "    </tr>\n",
       "  </thead>\n",
       "  <tbody>\n",
       "    <tr>\n",
       "      <th>0</th>\n",
       "      <td>11.0</td>\n",
       "      <td>102.850233</td>\n",
       "      <td>0.0</td>\n",
       "      <td>NaN</td>\n",
       "      <td>NaN</td>\n",
       "      <td>NaN</td>\n",
       "    </tr>\n",
       "    <tr>\n",
       "      <th>1</th>\n",
       "      <td>6.0</td>\n",
       "      <td>11.781667</td>\n",
       "      <td>5.0</td>\n",
       "      <td>91.068566</td>\n",
       "      <td>9.275621</td>\n",
       "      <td>0.008623</td>\n",
       "    </tr>\n",
       "  </tbody>\n",
       "</table>\n",
       "</div>"
      ],
      "text/plain": [
       "   df_resid         ssr  df_diff    ss_diff         F    Pr(>F)\n",
       "0      11.0  102.850233      0.0        NaN       NaN       NaN\n",
       "1       6.0   11.781667      5.0  91.068566  9.275621  0.008623"
      ]
     },
     "execution_count": 28,
     "metadata": {},
     "output_type": "execute_result"
    }
   ],
   "source": [
    "sm.stats.anova_lm(lmod, amod)"
   ]
  },
  {
   "cell_type": "markdown",
   "metadata": {},
   "source": [
    "Polynomial fit"
   ]
  },
  {
   "cell_type": "code",
   "execution_count": 29,
   "metadata": {},
   "outputs": [
    {
     "data": {
      "text/plain": [
       "array([  173.81821489,  -919.82377689,  1784.60949242, -1540.83916465,\n",
       "         552.23222816,   -76.09724981,   129.27393903])"
      ]
     },
     "execution_count": 29,
     "metadata": {},
     "output_type": "execute_result"
    }
   ],
   "source": [
    "pc = np.polyfit(corrosion.Fe, corrosion.loss, 6)\n",
    "pc"
   ]
  },
  {
   "cell_type": "code",
   "execution_count": 30,
   "metadata": {},
   "outputs": [
    {
     "data": {
      "image/png": "[encoded data removed]",
      "text/plain": [
       "<Figure size 432x288 with 1 Axes>"
      ]
     },
     "metadata": {
      "needs_background": "light"
     },
     "output_type": "display_data"
    }
   ],
   "source": [
    "fig, ax = plt.subplots()\n",
    "ax.scatter(corrosion.Fe, corrosion.loss)\n",
    "plt.xlabel(\"Fe\")\n",
    "plt.ylabel(\"loss\")\n",
    "ax.scatter(corrosion.Fe, amod.fittedvalues, marker='x')\n",
    "grid = np.linspace(0,2,50)\n",
    "ax.plot(grid,np.poly1d(pc)(grid))\n",
    "plt.show()"
   ]
  },
  {
   "cell_type": "markdown",
   "metadata": {},
   "source": [
    "Manually calculate R-squared."
   ]
  },
  {
   "cell_type": "code",
   "execution_count": 31,
   "metadata": {},
   "outputs": [
    {
     "data": {
      "text/plain": [
       "array([0.99653135])"
      ]
     },
     "execution_count": 31,
     "metadata": {},
     "output_type": "execute_result"
    }
   ],
   "source": [
    "pc, rss, _, _, _ = np.polyfit(corrosion.Fe, corrosion.loss, 6, full=True)\n",
    "tss = np.sum((corrosion.loss-np.mean(corrosion.loss))**2)\n",
    "1-rss/tss"
   ]
  },
  {
   "cell_type": "markdown",
   "metadata": {},
   "source": [
    "## Robust Regression\n",
    "\n",
    "Load Galapagos data"
   ]
  },
  {
   "cell_type": "code",
   "execution_count": 32,
   "metadata": {},
   "outputs": [
    {
     "data": {
      "text/html": [
       "<div>\n",
       "<style scoped>\n",
       "    .dataframe tbody tr th:only-of-type {\n",
       "        vertical-align: middle;\n",
       "    }\n",
       "\n",
       "    .dataframe tbody tr th {\n",
       "        vertical-align: top;\n",
       "    }\n",
       "\n",
       "    .dataframe thead th {\n",
       "        text-align: right;\n",
       "    }\n",
       "</style>\n",
       "<table border=\"1\" class=\"dataframe\">\n",
       "  <thead>\n",
       "    <tr style=\"text-align: right;\">\n",
       "      <th></th>\n",
       "      <th>Species</th>\n",
       "      <th>Area</th>\n",
       "      <th>Elevation</th>\n",
       "      <th>Nearest</th>\n",
       "      <th>Scruz</th>\n",
       "      <th>Adjacent</th>\n",
       "    </tr>\n",
       "  </thead>\n",
       "  <tbody>\n",
       "    <tr>\n",
       "      <th>Baltra</th>\n",
       "      <td>58</td>\n",
       "      <td>25.09</td>\n",
       "      <td>346</td>\n",
       "      <td>0.6</td>\n",
       "      <td>0.6</td>\n",
       "      <td>1.84</td>\n",
       "    </tr>\n",
       "    <tr>\n",
       "      <th>Bartolome</th>\n",
       "      <td>31</td>\n",
       "      <td>1.24</td>\n",
       "      <td>109</td>\n",
       "      <td>0.6</td>\n",
       "      <td>26.3</td>\n",
       "      <td>572.33</td>\n",
       "    </tr>\n",
       "    <tr>\n",
       "      <th>Caldwell</th>\n",
       "      <td>3</td>\n",
       "      <td>0.21</td>\n",
       "      <td>114</td>\n",
       "      <td>2.8</td>\n",
       "      <td>58.7</td>\n",
       "      <td>0.78</td>\n",
       "    </tr>\n",
       "    <tr>\n",
       "      <th>Champion</th>\n",
       "      <td>25</td>\n",
       "      <td>0.10</td>\n",
       "      <td>46</td>\n",
       "      <td>1.9</td>\n",
       "      <td>47.4</td>\n",
       "      <td>0.18</td>\n",
       "    </tr>\n",
       "    <tr>\n",
       "      <th>Coamano</th>\n",
       "      <td>2</td>\n",
       "      <td>0.05</td>\n",
       "      <td>77</td>\n",
       "      <td>1.9</td>\n",
       "      <td>1.9</td>\n",
       "      <td>903.82</td>\n",
       "    </tr>\n",
       "  </tbody>\n",
       "</table>\n",
       "</div>"
      ],
      "text/plain": [
       "           Species   Area  Elevation  Nearest  Scruz  Adjacent\n",
       "Baltra          58  25.09        346      0.6    0.6      1.84\n",
       "Bartolome       31   1.24        109      0.6   26.3    572.33\n",
       "Caldwell         3   0.21        114      2.8   58.7      0.78\n",
       "Champion        25   0.10         46      1.9   47.4      0.18\n",
       "Coamano          2   0.05         77      1.9    1.9    903.82"
      ]
     },
     "execution_count": 32,
     "metadata": {},
     "output_type": "execute_result"
    }
   ],
   "source": [
    "gala = pd.read_csv(\"data/gala.csv\",index_col=0)\n",
    "gala.drop('Endemics', axis=1, inplace=True)\n",
    "gala.head()"
   ]
  },
  {
   "cell_type": "markdown",
   "metadata": {},
   "source": [
    "Least squares fit:"
   ]
  },
  {
   "cell_type": "code",
   "execution_count": 33,
   "metadata": {},
   "outputs": [
    {
     "data": {
      "text/html": [
       "<table class=\"simpletable\">\n",
       "<caption>OLS Regression Results</caption>\n",
       "<tr>\n",
       "  <th>Dep. Variable:</th>         <td>Species</td>     <th>  R-squared:         </th> <td>   0.766</td>\n",
       "</tr>\n",
       "<tr>\n",
       "  <th>Model:</th>                   <td>OLS</td>       <th>  Adj. R-squared:    </th> <td>   0.717</td>\n",
       "</tr>\n",
       "<tr>\n",
       "  <th>Method:</th>             <td>Least Squares</td>  <th>  F-statistic:       </th> <td>   15.70</td>\n",
       "</tr>\n",
       "<tr>\n",
       "  <th>Date:</th>             <td>Tue, 25 Sep 2018</td> <th>  Prob (F-statistic):</th> <td>6.84e-07</td>\n",
       "</tr>\n",
       "<tr>\n",
       "  <th>Time:</th>                 <td>15:55:21</td>     <th>  Log-Likelihood:    </th> <td> -162.54</td>\n",
       "</tr>\n",
       "<tr>\n",
       "  <th>No. Observations:</th>      <td>    30</td>      <th>  AIC:               </th> <td>   337.1</td>\n",
       "</tr>\n",
       "<tr>\n",
       "  <th>Df Residuals:</th>          <td>    24</td>      <th>  BIC:               </th> <td>   345.5</td>\n",
       "</tr>\n",
       "<tr>\n",
       "  <th>Df Model:</th>              <td>     5</td>      <th>                     </th>     <td> </td>   \n",
       "</tr>\n",
       "<tr>\n",
       "  <th>Covariance Type:</th>      <td>nonrobust</td>    <th>                     </th>     <td> </td>   \n",
       "</tr>\n",
       "</table>\n",
       "<table class=\"simpletable\">\n",
       "<tr>\n",
       "      <td></td>         <th>coef</th>     <th>std err</th>      <th>t</th>      <th>P>|t|</th>  <th>[0.025</th>    <th>0.975]</th>  \n",
       "</tr>\n",
       "<tr>\n",
       "  <th>Intercept</th> <td>    7.0682</td> <td>   19.154</td> <td>    0.369</td> <td> 0.715</td> <td>  -32.464</td> <td>   46.601</td>\n",
       "</tr>\n",
       "<tr>\n",
       "  <th>Area</th>      <td>   -0.0239</td> <td>    0.022</td> <td>   -1.068</td> <td> 0.296</td> <td>   -0.070</td> <td>    0.022</td>\n",
       "</tr>\n",
       "<tr>\n",
       "  <th>Elevation</th> <td>    0.3195</td> <td>    0.054</td> <td>    5.953</td> <td> 0.000</td> <td>    0.209</td> <td>    0.430</td>\n",
       "</tr>\n",
       "<tr>\n",
       "  <th>Nearest</th>   <td>    0.0091</td> <td>    1.054</td> <td>    0.009</td> <td> 0.993</td> <td>   -2.166</td> <td>    2.185</td>\n",
       "</tr>\n",
       "<tr>\n",
       "  <th>Scruz</th>     <td>   -0.2405</td> <td>    0.215</td> <td>   -1.117</td> <td> 0.275</td> <td>   -0.685</td> <td>    0.204</td>\n",
       "</tr>\n",
       "<tr>\n",
       "  <th>Adjacent</th>  <td>   -0.0748</td> <td>    0.018</td> <td>   -4.226</td> <td> 0.000</td> <td>   -0.111</td> <td>   -0.038</td>\n",
       "</tr>\n",
       "</table>\n",
       "<table class=\"simpletable\">\n",
       "<tr>\n",
       "  <th>Omnibus:</th>       <td>12.683</td> <th>  Durbin-Watson:     </th> <td>   2.476</td>\n",
       "</tr>\n",
       "<tr>\n",
       "  <th>Prob(Omnibus):</th> <td> 0.002</td> <th>  Jarque-Bera (JB):  </th> <td>  13.498</td>\n",
       "</tr>\n",
       "<tr>\n",
       "  <th>Skew:</th>          <td> 1.136</td> <th>  Prob(JB):          </th> <td> 0.00117</td>\n",
       "</tr>\n",
       "<tr>\n",
       "  <th>Kurtosis:</th>      <td> 5.374</td> <th>  Cond. No.          </th> <td>1.90e+03</td>\n",
       "</tr>\n",
       "</table><br/><br/>Warnings:<br/>[1] Standard Errors assume that the covariance matrix of the errors is correctly specified.<br/>[2] The condition number is large, 1.9e+03. This might indicate that there are<br/>strong multicollinearity or other numerical problems."
      ],
      "text/plain": [
       "<class 'statsmodels.iolib.summary.Summary'>\n",
       "\"\"\"\n",
       "                            OLS Regression Results                            \n",
       "==============================================================================\n",
       "Dep. Variable:                Species   R-squared:                       0.766\n",
       "Model:                            OLS   Adj. R-squared:                  0.717\n",
       "Method:                 Least Squares   F-statistic:                     15.70\n",
       "Date:                Tue, 25 Sep 2018   Prob (F-statistic):           6.84e-07\n",
       "Time:                        15:55:21   Log-Likelihood:                -162.54\n",
       "No. Observations:                  30   AIC:                             337.1\n",
       "Df Residuals:                      24   BIC:                             345.5\n",
       "Df Model:                           5                                         \n",
       "Covariance Type:            nonrobust                                         \n",
       "==============================================================================\n",
       "                 coef    std err          t      P>|t|      [0.025      0.975]\n",
       "------------------------------------------------------------------------------\n",
       "Intercept      7.0682     19.154      0.369      0.715     -32.464      46.601\n",
       "Area          -0.0239      0.022     -1.068      0.296      -0.070       0.022\n",
       "Elevation      0.3195      0.054      5.953      0.000       0.209       0.430\n",
       "Nearest        0.0091      1.054      0.009      0.993      -2.166       2.185\n",
       "Scruz         -0.2405      0.215     -1.117      0.275      -0.685       0.204\n",
       "Adjacent      -0.0748      0.018     -4.226      0.000      -0.111      -0.038\n",
       "==============================================================================\n",
       "Omnibus:                       12.683   Durbin-Watson:                   2.476\n",
       "Prob(Omnibus):                  0.002   Jarque-Bera (JB):               13.498\n",
       "Skew:                           1.136   Prob(JB):                      0.00117\n",
       "Kurtosis:                       5.374   Cond. No.                     1.90e+03\n",
       "==============================================================================\n",
       "\n",
       "Warnings:\n",
       "[1] Standard Errors assume that the covariance matrix of the errors is correctly specified.\n",
       "[2] The condition number is large, 1.9e+03. This might indicate that there are\n",
       "strong multicollinearity or other numerical problems.\n",
       "\"\"\""
      ]
     },
     "execution_count": 33,
     "metadata": {},
     "output_type": "execute_result"
    }
   ],
   "source": [
    "lsmod = smf.ols(formula='Species ~ Area + Elevation + Nearest + Scruz  + Adjacent', data=gala).fit()\n",
    "lsmod.summary()"
   ]
  },
  {
   "cell_type": "markdown",
   "metadata": {},
   "source": [
    "Fit the robust regression using default which is Huber T:"
   ]
  },
  {
   "cell_type": "code",
   "execution_count": 34,
   "metadata": {},
   "outputs": [
    {
     "data": {
      "text/html": [
       "<table class=\"simpletable\">\n",
       "<caption>Robust linear Model Regression Results</caption>\n",
       "<tr>\n",
       "  <th>Dep. Variable:</th>       <td>Species</td>     <th>  No. Observations:  </th> <td>    30</td>\n",
       "</tr>\n",
       "<tr>\n",
       "  <th>Model:</th>                 <td>RLM</td>       <th>  Df Residuals:      </th> <td>    24</td>\n",
       "</tr>\n",
       "<tr>\n",
       "  <th>Method:</th>               <td>IRLS</td>       <th>  Df Model:          </th> <td>     5</td>\n",
       "</tr>\n",
       "<tr>\n",
       "  <th>Norm:</th>                <td>HuberT</td>      <th>                     </th>    <td> </td>  \n",
       "</tr>\n",
       "<tr>\n",
       "  <th>Scale Est.:</th>            <td>mad</td>       <th>                     </th>    <td> </td>  \n",
       "</tr>\n",
       "<tr>\n",
       "  <th>Cov Type:</th>              <td>H1</td>        <th>                     </th>    <td> </td>  \n",
       "</tr>\n",
       "<tr>\n",
       "  <th>Date:</th>           <td>Tue, 25 Sep 2018</td> <th>                     </th>    <td> </td>  \n",
       "</tr>\n",
       "<tr>\n",
       "  <th>Time:</th>               <td>15:55:21</td>     <th>                     </th>    <td> </td>  \n",
       "</tr>\n",
       "<tr>\n",
       "  <th>No. Iterations:</th>        <td>20</td>        <th>                     </th>    <td> </td>  \n",
       "</tr>\n",
       "</table>\n",
       "<table class=\"simpletable\">\n",
       "<tr>\n",
       "      <td></td>         <th>coef</th>     <th>std err</th>      <th>z</th>      <th>P>|z|</th>  <th>[0.025</th>    <th>0.975]</th>  \n",
       "</tr>\n",
       "<tr>\n",
       "  <th>const</th>     <td>    6.3626</td> <td>   12.366</td> <td>    0.515</td> <td> 0.607</td> <td>  -17.875</td> <td>   30.600</td>\n",
       "</tr>\n",
       "<tr>\n",
       "  <th>Area</th>      <td>   -0.0061</td> <td>    0.014</td> <td>   -0.422</td> <td> 0.673</td> <td>   -0.034</td> <td>    0.022</td>\n",
       "</tr>\n",
       "<tr>\n",
       "  <th>Elevation</th> <td>    0.2476</td> <td>    0.035</td> <td>    7.146</td> <td> 0.000</td> <td>    0.180</td> <td>    0.315</td>\n",
       "</tr>\n",
       "<tr>\n",
       "  <th>Nearest</th>   <td>    0.3590</td> <td>    0.681</td> <td>    0.528</td> <td> 0.598</td> <td>   -0.975</td> <td>    1.693</td>\n",
       "</tr>\n",
       "<tr>\n",
       "  <th>Scruz</th>     <td>   -0.1952</td> <td>    0.139</td> <td>   -1.404</td> <td> 0.160</td> <td>   -0.468</td> <td>    0.077</td>\n",
       "</tr>\n",
       "<tr>\n",
       "  <th>Adjacent</th>  <td>   -0.0546</td> <td>    0.011</td> <td>   -4.774</td> <td> 0.000</td> <td>   -0.077</td> <td>   -0.032</td>\n",
       "</tr>\n",
       "</table><br/><br/>If the model instance has been used for another fit with different fit<br/>parameters, then the fit options might not be the correct ones anymore ."
      ],
      "text/plain": [
       "<class 'statsmodels.iolib.summary.Summary'>\n",
       "\"\"\"\n",
       "                    Robust linear Model Regression Results                    \n",
       "==============================================================================\n",
       "Dep. Variable:                Species   No. Observations:                   30\n",
       "Model:                            RLM   Df Residuals:                       24\n",
       "Method:                          IRLS   Df Model:                            5\n",
       "Norm:                          HuberT                                         \n",
       "Scale Est.:                       mad                                         \n",
       "Cov Type:                          H1                                         \n",
       "Date:                Tue, 25 Sep 2018                                         \n",
       "Time:                        15:55:21                                         \n",
       "No. Iterations:                    20                                         \n",
       "==============================================================================\n",
       "                 coef    std err          z      P>|z|      [0.025      0.975]\n",
       "------------------------------------------------------------------------------\n",
       "const          6.3626     12.366      0.515      0.607     -17.875      30.600\n",
       "Area          -0.0061      0.014     -0.422      0.673      -0.034       0.022\n",
       "Elevation      0.2476      0.035      7.146      0.000       0.180       0.315\n",
       "Nearest        0.3590      0.681      0.528      0.598      -0.975       1.693\n",
       "Scruz         -0.1952      0.139     -1.404      0.160      -0.468       0.077\n",
       "Adjacent      -0.0546      0.011     -4.774      0.000      -0.077      -0.032\n",
       "==============================================================================\n",
       "\n",
       "If the model instance has been used for another fit with different fit\n",
       "parameters, then the fit options might not be the correct ones anymore .\n",
       "\"\"\""
      ]
     },
     "execution_count": 34,
     "metadata": {},
     "output_type": "execute_result"
    }
   ],
   "source": [
    "exog = gala.drop('Species',axis=1)\n",
    "exog = sm.add_constant(exog)\n",
    "rlmod = sm.RLM(gala.Species,exog).fit()\n",
    "rlmod.summary()"
   ]
  },
  {
   "cell_type": "markdown",
   "metadata": {},
   "source": [
    "Check the small weights:"
   ]
  },
  {
   "cell_type": "code",
   "execution_count": 35,
   "metadata": {},
   "outputs": [
    {
     "data": {
      "text/plain": [
       "Espanola        0.679642\n",
       "Gardner1        0.661450\n",
       "Gardner2        0.850097\n",
       "Pinta           0.537700\n",
       "SanCristobal    0.414224\n",
       "SantaCruz       0.174601\n",
       "SantaMaria      0.307863\n",
       "dtype: float64"
      ]
     },
     "execution_count": 35,
     "metadata": {},
     "output_type": "execute_result"
    }
   ],
   "source": [
    "wts = rlmod.weights\n",
    "wts[wts < 1]"
   ]
  },
  {
   "cell_type": "markdown",
   "metadata": {},
   "source": [
    "L1 or LAD fit:"
   ]
  },
  {
   "cell_type": "code",
   "execution_count": 36,
   "metadata": {},
   "outputs": [
    {
     "name": "stderr",
     "output_type": "stream",
     "text": [
      "/anaconda/lib/python3.7/site-packages/scipy/stats/stats.py:1713: FutureWarning: Using a non-tuple sequence for multidimensional indexing is deprecated; use `arr[tuple(seq)]` instead of `arr[seq]`. In the future this will be interpreted as an array index, `arr[np.array(seq)]`, which will result either in an error or a different result.\n",
      "  return np.add.reduce(sorted[indexer] * weights, axis=axis) / sumval\n"
     ]
    },
    {
     "data": {
      "text/html": [
       "<table class=\"simpletable\">\n",
       "<caption>QuantReg Regression Results</caption>\n",
       "<tr>\n",
       "  <th>Dep. Variable:</th>      <td>Species</td>     <th>  Pseudo R-squared:  </th> <td>  0.5064</td>\n",
       "</tr>\n",
       "<tr>\n",
       "  <th>Model:</th>             <td>QuantReg</td>     <th>  Bandwidth:         </th> <td>   56.17</td>\n",
       "</tr>\n",
       "<tr>\n",
       "  <th>Method:</th>          <td>Least Squares</td>  <th>  Sparsity:          </th> <td>   106.7</td>\n",
       "</tr>\n",
       "<tr>\n",
       "  <th>Date:</th>          <td>Tue, 25 Sep 2018</td> <th>  No. Observations:  </th>  <td>    30</td> \n",
       "</tr>\n",
       "<tr>\n",
       "  <th>Time:</th>              <td>15:55:21</td>     <th>  Df Residuals:      </th>  <td>    24</td> \n",
       "</tr>\n",
       "<tr>\n",
       "  <th> </th>                      <td> </td>        <th>  Df Model:          </th>  <td>     5</td> \n",
       "</tr>\n",
       "</table>\n",
       "<table class=\"simpletable\">\n",
       "<tr>\n",
       "      <td></td>         <th>coef</th>     <th>std err</th>      <th>t</th>      <th>P>|t|</th>  <th>[0.025</th>    <th>0.975]</th>  \n",
       "</tr>\n",
       "<tr>\n",
       "  <th>const</th>     <td>    1.3145</td> <td>   16.754</td> <td>    0.078</td> <td> 0.938</td> <td>  -33.263</td> <td>   35.892</td>\n",
       "</tr>\n",
       "<tr>\n",
       "  <th>Area</th>      <td>   -0.0031</td> <td>    0.020</td> <td>   -0.156</td> <td> 0.877</td> <td>   -0.044</td> <td>    0.037</td>\n",
       "</tr>\n",
       "<tr>\n",
       "  <th>Elevation</th> <td>    0.2321</td> <td>    0.047</td> <td>    4.945</td> <td> 0.000</td> <td>    0.135</td> <td>    0.329</td>\n",
       "</tr>\n",
       "<tr>\n",
       "  <th>Nearest</th>   <td>    0.1637</td> <td>    0.922</td> <td>    0.177</td> <td> 0.861</td> <td>   -1.739</td> <td>    2.067</td>\n",
       "</tr>\n",
       "<tr>\n",
       "  <th>Scruz</th>     <td>   -0.1231</td> <td>    0.188</td> <td>   -0.654</td> <td> 0.520</td> <td>   -0.512</td> <td>    0.266</td>\n",
       "</tr>\n",
       "<tr>\n",
       "  <th>Adjacent</th>  <td>   -0.0519</td> <td>    0.015</td> <td>   -3.349</td> <td> 0.003</td> <td>   -0.084</td> <td>   -0.020</td>\n",
       "</tr>\n",
       "</table><br/><br/>The condition number is large, 1.9e+03. This might indicate that there are<br/>strong multicollinearity or other numerical problems."
      ],
      "text/plain": [
       "<class 'statsmodels.iolib.summary.Summary'>\n",
       "\"\"\"\n",
       "                         QuantReg Regression Results                          \n",
       "==============================================================================\n",
       "Dep. Variable:                Species   Pseudo R-squared:               0.5064\n",
       "Model:                       QuantReg   Bandwidth:                       56.17\n",
       "Method:                 Least Squares   Sparsity:                        106.7\n",
       "Date:                Tue, 25 Sep 2018   No. Observations:                   30\n",
       "Time:                        15:55:21   Df Residuals:                       24\n",
       "                                        Df Model:                            5\n",
       "==============================================================================\n",
       "                 coef    std err          t      P>|t|      [0.025      0.975]\n",
       "------------------------------------------------------------------------------\n",
       "const          1.3145     16.754      0.078      0.938     -33.263      35.892\n",
       "Area          -0.0031      0.020     -0.156      0.877      -0.044       0.037\n",
       "Elevation      0.2321      0.047      4.945      0.000       0.135       0.329\n",
       "Nearest        0.1637      0.922      0.177      0.861      -1.739       2.067\n",
       "Scruz         -0.1231      0.188     -0.654      0.520      -0.512       0.266\n",
       "Adjacent      -0.0519      0.015     -3.349      0.003      -0.084      -0.020\n",
       "==============================================================================\n",
       "\n",
       "The condition number is large, 1.9e+03. This might indicate that there are\n",
       "strong multicollinearity or other numerical problems.\n",
       "\"\"\""
      ]
     },
     "execution_count": 36,
     "metadata": {},
     "output_type": "execute_result"
    }
   ],
   "source": [
    "l1mod = sm.QuantReg(gala.Species, exog).fit()\n",
    "l1mod.summary()"
   ]
  },
  {
   "cell_type": "markdown",
   "metadata": {},
   "source": [
    "This is not the same as least trimmed squares but as close as we can come with `sm.RLM`:"
   ]
  },
  {
   "cell_type": "code",
   "execution_count": 37,
   "metadata": {},
   "outputs": [
    {
     "data": {
      "text/html": [
       "<table class=\"simpletable\">\n",
       "<caption>Robust linear Model Regression Results</caption>\n",
       "<tr>\n",
       "  <th>Dep. Variable:</th>       <td>Species</td>     <th>  No. Observations:  </th> <td>    30</td>\n",
       "</tr>\n",
       "<tr>\n",
       "  <th>Model:</th>                 <td>RLM</td>       <th>  Df Residuals:      </th> <td>    24</td>\n",
       "</tr>\n",
       "<tr>\n",
       "  <th>Method:</th>               <td>IRLS</td>       <th>  Df Model:          </th> <td>     5</td>\n",
       "</tr>\n",
       "<tr>\n",
       "  <th>Norm:</th>              <td>TrimmedMean</td>   <th>                     </th>    <td> </td>  \n",
       "</tr>\n",
       "<tr>\n",
       "  <th>Scale Est.:</th>            <td>mad</td>       <th>                     </th>    <td> </td>  \n",
       "</tr>\n",
       "<tr>\n",
       "  <th>Cov Type:</th>              <td>H1</td>        <th>                     </th>    <td> </td>  \n",
       "</tr>\n",
       "<tr>\n",
       "  <th>Date:</th>           <td>Tue, 25 Sep 2018</td> <th>                     </th>    <td> </td>  \n",
       "</tr>\n",
       "<tr>\n",
       "  <th>Time:</th>               <td>15:55:21</td>     <th>                     </th>    <td> </td>  \n",
       "</tr>\n",
       "<tr>\n",
       "  <th>No. Iterations:</th>         <td>5</td>        <th>                     </th>    <td> </td>  \n",
       "</tr>\n",
       "</table>\n",
       "<table class=\"simpletable\">\n",
       "<tr>\n",
       "      <td></td>         <th>coef</th>     <th>std err</th>      <th>z</th>      <th>P>|z|</th>  <th>[0.025</th>    <th>0.975]</th>  \n",
       "</tr>\n",
       "<tr>\n",
       "  <th>const</th>     <td>    2.5164</td> <td>    7.657</td> <td>    0.329</td> <td> 0.742</td> <td>  -12.490</td> <td>   17.523</td>\n",
       "</tr>\n",
       "<tr>\n",
       "  <th>Area</th>      <td>    0.0023</td> <td>    0.009</td> <td>    0.253</td> <td> 0.800</td> <td>   -0.015</td> <td>    0.020</td>\n",
       "</tr>\n",
       "<tr>\n",
       "  <th>Elevation</th> <td>    0.2172</td> <td>    0.021</td> <td>   10.124</td> <td> 0.000</td> <td>    0.175</td> <td>    0.259</td>\n",
       "</tr>\n",
       "<tr>\n",
       "  <th>Nearest</th>   <td>    0.6670</td> <td>    0.421</td> <td>    1.583</td> <td> 0.113</td> <td>   -0.159</td> <td>    1.493</td>\n",
       "</tr>\n",
       "<tr>\n",
       "  <th>Scruz</th>     <td>   -0.2229</td> <td>    0.086</td> <td>   -2.589</td> <td> 0.010</td> <td>   -0.392</td> <td>   -0.054</td>\n",
       "</tr>\n",
       "<tr>\n",
       "  <th>Adjacent</th>  <td>   -0.0443</td> <td>    0.007</td> <td>   -6.261</td> <td> 0.000</td> <td>   -0.058</td> <td>   -0.030</td>\n",
       "</tr>\n",
       "</table><br/><br/>If the model instance has been used for another fit with different fit<br/>parameters, then the fit options might not be the correct ones anymore ."
      ],
      "text/plain": [
       "<class 'statsmodels.iolib.summary.Summary'>\n",
       "\"\"\"\n",
       "                    Robust linear Model Regression Results                    \n",
       "==============================================================================\n",
       "Dep. Variable:                Species   No. Observations:                   30\n",
       "Model:                            RLM   Df Residuals:                       24\n",
       "Method:                          IRLS   Df Model:                            5\n",
       "Norm:                     TrimmedMean                                         \n",
       "Scale Est.:                       mad                                         \n",
       "Cov Type:                          H1                                         \n",
       "Date:                Tue, 25 Sep 2018                                         \n",
       "Time:                        15:55:21                                         \n",
       "No. Iterations:                     5                                         \n",
       "==============================================================================\n",
       "                 coef    std err          z      P>|z|      [0.025      0.975]\n",
       "------------------------------------------------------------------------------\n",
       "const          2.5164      7.657      0.329      0.742     -12.490      17.523\n",
       "Area           0.0023      0.009      0.253      0.800      -0.015       0.020\n",
       "Elevation      0.2172      0.021     10.124      0.000       0.175       0.259\n",
       "Nearest        0.6670      0.421      1.583      0.113      -0.159       1.493\n",
       "Scruz         -0.2229      0.086     -2.589      0.010      -0.392      -0.054\n",
       "Adjacent      -0.0443      0.007     -6.261      0.000      -0.058      -0.030\n",
       "==============================================================================\n",
       "\n",
       "If the model instance has been used for another fit with different fit\n",
       "parameters, then the fit options might not be the correct ones anymore .\n",
       "\"\"\""
      ]
     },
     "execution_count": 37,
     "metadata": {},
     "output_type": "execute_result"
    }
   ],
   "source": [
    "ltsmod = sm.RLM(gala.Species, exog, M=sm.robust.norms.TrimmedMean()).fit()\n",
    "ltsmod.summary()"
   ]
  },
  {
   "cell_type": "markdown",
   "metadata": {},
   "source": [
    "Results come with standard errors so no need to do bootstrapping.\n",
    "\n",
    "Fit the Galapagos model without Isabela:"
   ]
  },
  {
   "cell_type": "code",
   "execution_count": 38,
   "metadata": {},
   "outputs": [
    {
     "name": "stderr",
     "output_type": "stream",
     "text": [
      "/anaconda/lib/python3.7/site-packages/statsmodels/regression/linear_model.py:719: RuntimeWarning: divide by zero encountered in log\n",
      "  llf += 0.5 * np.sum(np.log(self.weights))\n"
     ]
    },
    {
     "data": {
      "text/html": [
       "<table class=\"simpletable\">\n",
       "<caption>WLS Regression Results</caption>\n",
       "<tr>\n",
       "  <th>Dep. Variable:</th>         <td>Species</td>     <th>  R-squared:         </th> <td>   0.871</td>\n",
       "</tr>\n",
       "<tr>\n",
       "  <th>Model:</th>                   <td>WLS</td>       <th>  Adj. R-squared:    </th> <td>   0.845</td>\n",
       "</tr>\n",
       "<tr>\n",
       "  <th>Method:</th>             <td>Least Squares</td>  <th>  F-statistic:       </th> <td>   32.53</td>\n",
       "</tr>\n",
       "<tr>\n",
       "  <th>Date:</th>             <td>Tue, 25 Sep 2018</td> <th>  Prob (F-statistic):</th> <td>6.14e-10</td>\n",
       "</tr>\n",
       "<tr>\n",
       "  <th>Time:</th>                 <td>15:55:21</td>     <th>  Log-Likelihood:    </th> <td>    -inf</td>\n",
       "</tr>\n",
       "<tr>\n",
       "  <th>No. Observations:</th>      <td>    30</td>      <th>  AIC:               </th> <td>     inf</td>\n",
       "</tr>\n",
       "<tr>\n",
       "  <th>Df Residuals:</th>          <td>    24</td>      <th>  BIC:               </th> <td>     inf</td>\n",
       "</tr>\n",
       "<tr>\n",
       "  <th>Df Model:</th>              <td>     5</td>      <th>                     </th>     <td> </td>   \n",
       "</tr>\n",
       "<tr>\n",
       "  <th>Covariance Type:</th>      <td>nonrobust</td>    <th>                     </th>     <td> </td>   \n",
       "</tr>\n",
       "</table>\n",
       "<table class=\"simpletable\">\n",
       "<tr>\n",
       "      <td></td>         <th>coef</th>     <th>std err</th>      <th>t</th>      <th>P>|t|</th>  <th>[0.025</th>    <th>0.975]</th>  \n",
       "</tr>\n",
       "<tr>\n",
       "  <th>Intercept</th> <td>   22.5861</td> <td>   13.120</td> <td>    1.722</td> <td> 0.098</td> <td>   -4.492</td> <td>   49.664</td>\n",
       "</tr>\n",
       "<tr>\n",
       "  <th>Area</th>      <td>    0.2957</td> <td>    0.061</td> <td>    4.884</td> <td> 0.000</td> <td>    0.171</td> <td>    0.421</td>\n",
       "</tr>\n",
       "<tr>\n",
       "  <th>Elevation</th> <td>    0.1404</td> <td>    0.049</td> <td>    2.885</td> <td> 0.008</td> <td>    0.040</td> <td>    0.241</td>\n",
       "</tr>\n",
       "<tr>\n",
       "  <th>Nearest</th>   <td>   -0.2552</td> <td>    0.706</td> <td>   -0.361</td> <td> 0.721</td> <td>   -1.713</td> <td>    1.203</td>\n",
       "</tr>\n",
       "<tr>\n",
       "  <th>Scruz</th>     <td>   -0.0901</td> <td>    0.147</td> <td>   -0.614</td> <td> 0.545</td> <td>   -0.393</td> <td>    0.213</td>\n",
       "</tr>\n",
       "<tr>\n",
       "  <th>Adjacent</th>  <td>   -0.0650</td> <td>    0.012</td> <td>   -5.433</td> <td> 0.000</td> <td>   -0.090</td> <td>   -0.040</td>\n",
       "</tr>\n",
       "</table>\n",
       "<table class=\"simpletable\">\n",
       "<tr>\n",
       "  <th>Omnibus:</th>       <td>13.716</td> <th>  Durbin-Watson:     </th> <td>   2.459</td>\n",
       "</tr>\n",
       "<tr>\n",
       "  <th>Prob(Omnibus):</th> <td> 0.001</td> <th>  Jarque-Bera (JB):  </th> <td>  17.482</td>\n",
       "</tr>\n",
       "<tr>\n",
       "  <th>Skew:</th>          <td> 1.081</td> <th>  Prob(JB):          </th> <td>0.000160</td>\n",
       "</tr>\n",
       "<tr>\n",
       "  <th>Kurtosis:</th>      <td> 6.052</td> <th>  Cond. No.          </th> <td>1.66e+03</td>\n",
       "</tr>\n",
       "</table><br/><br/>Warnings:<br/>[1] Standard Errors assume that the covariance matrix of the errors is correctly specified.<br/>[2] The condition number is large, 1.66e+03. This might indicate that there are<br/>strong multicollinearity or other numerical problems."
      ],
      "text/plain": [
       "<class 'statsmodels.iolib.summary.Summary'>\n",
       "\"\"\"\n",
       "                            WLS Regression Results                            \n",
       "==============================================================================\n",
       "Dep. Variable:                Species   R-squared:                       0.871\n",
       "Model:                            WLS   Adj. R-squared:                  0.845\n",
       "Method:                 Least Squares   F-statistic:                     32.53\n",
       "Date:                Tue, 25 Sep 2018   Prob (F-statistic):           6.14e-10\n",
       "Time:                        15:55:21   Log-Likelihood:                   -inf\n",
       "No. Observations:                  30   AIC:                               inf\n",
       "Df Residuals:                      24   BIC:                               inf\n",
       "Df Model:                           5                                         \n",
       "Covariance Type:            nonrobust                                         \n",
       "==============================================================================\n",
       "                 coef    std err          t      P>|t|      [0.025      0.975]\n",
       "------------------------------------------------------------------------------\n",
       "Intercept     22.5861     13.120      1.722      0.098      -4.492      49.664\n",
       "Area           0.2957      0.061      4.884      0.000       0.171       0.421\n",
       "Elevation      0.1404      0.049      2.885      0.008       0.040       0.241\n",
       "Nearest       -0.2552      0.706     -0.361      0.721      -1.713       1.203\n",
       "Scruz         -0.0901      0.147     -0.614      0.545      -0.393       0.213\n",
       "Adjacent      -0.0650      0.012     -5.433      0.000      -0.090      -0.040\n",
       "==============================================================================\n",
       "Omnibus:                       13.716   Durbin-Watson:                   2.459\n",
       "Prob(Omnibus):                  0.001   Jarque-Bera (JB):               17.482\n",
       "Skew:                           1.081   Prob(JB):                     0.000160\n",
       "Kurtosis:                       6.052   Cond. No.                     1.66e+03\n",
       "==============================================================================\n",
       "\n",
       "Warnings:\n",
       "[1] Standard Errors assume that the covariance matrix of the errors is correctly specified.\n",
       "[2] The condition number is large, 1.66e+03. This might indicate that there are\n",
       "strong multicollinearity or other numerical problems.\n",
       "\"\"\""
      ]
     },
     "execution_count": 38,
     "metadata": {},
     "output_type": "execute_result"
    }
   ],
   "source": [
    "wts = gala.index != 'Isabela'\n",
    "limod = smf.wls(formula='Species ~ Area + Elevation + Nearest + Scruz  + Adjacent', data=gala, weights=wts).fit()\n",
    "limod.summary()"
   ]
  },
  {
   "cell_type": "markdown",
   "metadata": {},
   "source": [
    "Show example with multiple outliers:"
   ]
  },
  {
   "cell_type": "code",
   "execution_count": 39,
   "metadata": {},
   "outputs": [
    {
     "data": {
      "text/html": [
       "<div>\n",
       "<style scoped>\n",
       "    .dataframe tbody tr th:only-of-type {\n",
       "        vertical-align: middle;\n",
       "    }\n",
       "\n",
       "    .dataframe tbody tr th {\n",
       "        vertical-align: top;\n",
       "    }\n",
       "\n",
       "    .dataframe thead th {\n",
       "        text-align: right;\n",
       "    }\n",
       "</style>\n",
       "<table border=\"1\" class=\"dataframe\">\n",
       "  <thead>\n",
       "    <tr style=\"text-align: right;\">\n",
       "      <th></th>\n",
       "      <th>temp</th>\n",
       "      <th>light</th>\n",
       "    </tr>\n",
       "  </thead>\n",
       "  <tbody>\n",
       "    <tr>\n",
       "      <th>0</th>\n",
       "      <td>4.37</td>\n",
       "      <td>5.23</td>\n",
       "    </tr>\n",
       "    <tr>\n",
       "      <th>1</th>\n",
       "      <td>4.56</td>\n",
       "      <td>5.74</td>\n",
       "    </tr>\n",
       "    <tr>\n",
       "      <th>2</th>\n",
       "      <td>4.26</td>\n",
       "      <td>4.93</td>\n",
       "    </tr>\n",
       "    <tr>\n",
       "      <th>3</th>\n",
       "      <td>4.56</td>\n",
       "      <td>5.74</td>\n",
       "    </tr>\n",
       "    <tr>\n",
       "      <th>4</th>\n",
       "      <td>4.30</td>\n",
       "      <td>5.19</td>\n",
       "    </tr>\n",
       "  </tbody>\n",
       "</table>\n",
       "</div>"
      ],
      "text/plain": [
       "   temp  light\n",
       "0  4.37   5.23\n",
       "1  4.56   5.74\n",
       "2  4.26   4.93\n",
       "3  4.56   5.74\n",
       "4  4.30   5.19"
      ]
     },
     "execution_count": 39,
     "metadata": {},
     "output_type": "execute_result"
    }
   ],
   "source": [
    "star = pd.read_csv(\"data/star.csv\")\n",
    "star.head()"
   ]
  },
  {
   "cell_type": "code",
   "execution_count": 40,
   "metadata": {},
   "outputs": [
    {
     "data": {
      "image/png": "[encoded data removed]",
      "text/plain": [
       "<Figure size 432x288 with 1 Axes>"
      ]
     },
     "metadata": {
      "needs_background": "light"
     },
     "output_type": "display_data"
    }
   ],
   "source": [
    "gs1 = smf.ols(formula='light ~ temp', data=star).fit()\n",
    "gs2 = smf.RLM(star.light, sm.add_constant(star.temp), data=star).fit()\n",
    "gs3 = smf.RLM(star.light, sm.add_constant(star.temp), data=star,M=sm.robust.norms.TrimmedMean(c=0.1) ).fit()\n",
    "plt.scatter(star.temp, star.light)\n",
    "plt.plot([3.4, 4.7], [gs1.params[0] + gs1.params[1]*3.4, gs1.params[0] + gs1.params[1]*4.7])\n",
    "plt.plot([3.4, 4.7], [gs2.params[0] + gs2.params[1]*3.4, gs2.params[0] + gs2.params[1]*4.7])\n",
    "plt.plot([3.4, 4.7], [gs3.params[0] + gs3.params[1]*3.4, gs3.params[0] + gs3.params[1]*4.7])\n",
    "plt.show()"
   ]
  },
  {
   "cell_type": "markdown",
   "metadata": {},
   "source": [
    "Does not work. This class of estimators cannot do the job for this problem."
   ]
  },
  {
   "cell_type": "code",
   "execution_count": 41,
   "metadata": {},
   "outputs": [
    {
     "data": {
      "application/json": {
       "Software versions": [
        {
         "module": "Python",
         "version": "3.7.0 64bit [Clang 4.0.1 (tags/RELEASE_401/final)]"
        },
        {
         "module": "IPython",
         "version": "6.5.0"
        },
        {
         "module": "OS",
         "version": "Darwin 17.7.0 x86_64 i386 64bit"
        },
        {
         "module": "pandas",
         "version": "0.23.4"
        },
        {
         "module": "numpy",
         "version": "1.15.1"
        },
        {
         "module": "matplotlib",
         "version": "2.2.3"
        },
        {
         "module": "seaborn",
         "version": "0.9.0"
        },
        {
         "module": "scipy",
         "version": "1.1.0"
        },
        {
         "module": "patsy",
         "version": "0.5.0"
        },
        {
         "module": "statsmodels",
         "version": "0.9.0"
        }
       ]
      },
      "text/html": [
       "<table><tr><th>Software</th><th>Version</th></tr><tr><td>Python</td><td>3.7.0 64bit [Clang 4.0.1 (tags/RELEASE_401/final)]</td></tr><tr><td>IPython</td><td>6.5.0</td></tr><tr><td>OS</td><td>Darwin 17.7.0 x86_64 i386 64bit</td></tr><tr><td>pandas</td><td>0.23.4</td></tr><tr><td>numpy</td><td>1.15.1</td></tr><tr><td>matplotlib</td><td>2.2.3</td></tr><tr><td>seaborn</td><td>0.9.0</td></tr><tr><td>scipy</td><td>1.1.0</td></tr><tr><td>patsy</td><td>0.5.0</td></tr><tr><td>statsmodels</td><td>0.9.0</td></tr><tr><td colspan='2'>Tue Sep 25 15:55:21 2018 BST</td></tr></table>"
      ],
      "text/latex": [
       "\\begin{tabular}{|l|l|}\\hline\n",
       "{\\bf Software} & {\\bf Version} \\\\ \\hline\\hline\n",
       "Python & 3.7.0 64bit [Clang 4.0.1 (tags/RELEASE\\_401/final)] \\\\ \\hline\n",
       "IPython & 6.5.0 \\\\ \\hline\n",
       "OS & Darwin 17.7.0 x86\\_64 i386 64bit \\\\ \\hline\n",
       "pandas & 0.23.4 \\\\ \\hline\n",
       "numpy & 1.15.1 \\\\ \\hline\n",
       "matplotlib & 2.2.3 \\\\ \\hline\n",
       "seaborn & 0.9.0 \\\\ \\hline\n",
       "scipy & 1.1.0 \\\\ \\hline\n",
       "patsy & 0.5.0 \\\\ \\hline\n",
       "statsmodels & 0.9.0 \\\\ \\hline\n",
       "\\hline \\multicolumn{2}{|l|}{Tue Sep 25 15:55:21 2018 BST} \\\\ \\hline\n",
       "\\end{tabular}\n"
      ],
      "text/plain": [
       "Software versions\n",
       "Python 3.7.0 64bit [Clang 4.0.1 (tags/RELEASE_401/final)]\n",
       "IPython 6.5.0\n",
       "OS Darwin 17.7.0 x86_64 i386 64bit\n",
       "pandas 0.23.4\n",
       "numpy 1.15.1\n",
       "matplotlib 2.2.3\n",
       "seaborn 0.9.0\n",
       "scipy 1.1.0\n",
       "patsy 0.5.0\n",
       "statsmodels 0.9.0\n",
       "Tue Sep 25 15:55:21 2018 BST"
      ]
     },
     "execution_count": 41,
     "metadata": {},
     "output_type": "execute_result"
    }
   ],
   "source": [
    "%load_ext version_information\n",
    "%version_information pandas, numpy, matplotlib, seaborn, scipy, patsy, statsmodels"
   ]
  }
 ],
 "metadata": {
  "kernelspec": {
   "display_name": "Python 3",
   "language": "python",
   "name": "python3"
  },
  "language_info": {
   "codemirror_mode": {
    "name": "ipython",
    "version": 3
   },
   "file_extension": ".py",
   "mimetype": "text/x-python",
   "name": "python",
   "nbconvert_exporter": "python",
   "pygments_lexer": "ipython3",
   "version": "3.6.5"
  }
 },
 "nbformat": 4,
 "nbformat_minor": 2
}
